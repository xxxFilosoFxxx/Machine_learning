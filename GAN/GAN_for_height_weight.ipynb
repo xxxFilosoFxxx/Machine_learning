{
 "cells": [
  {
   "cell_type": "code",
   "execution_count": 1,
   "metadata": {},
   "outputs": [],
   "source": [
    "import os\n",
    "import numpy as np\n",
    "import pandas as pd\n",
    "import matplotlib.pyplot as plt\n",
    "from tqdm import tqdm\n",
    "\n",
    "from keras.layers import Input\n",
    "from keras.models import Model, Sequential\n",
    "from keras.layers.core import Dense, Dropout\n",
    "from keras.layers.advanced_activations import LeakyReLU\n",
    "from keras.optimizers import Adam\n",
    "from keras import initializers\n",
    "\n",
    "# Height: в 1 дюйме 2,54 см\n",
    "# Weight: в 1 фунте 0,453 кг"
   ]
  },
  {
   "cell_type": "code",
   "execution_count": 2,
   "metadata": {},
   "outputs": [
    {
     "name": "stdout",
     "output_type": "stream",
     "text": [
      "<class 'pandas.core.frame.DataFrame'>\n",
      "RangeIndex: 10000 entries, 0 to 9999\n",
      "Data columns (total 2 columns):\n",
      " #   Column  Non-Null Count  Dtype  \n",
      "---  ------  --------------  -----  \n",
      " 0   Height  10000 non-null  float64\n",
      " 1   Weight  10000 non-null  float64\n",
      "dtypes: float64(2)\n",
      "memory usage: 156.4 KB\n"
     ]
    }
   ],
   "source": [
    "dataset = pd.read_csv(\"weight-height.csv\") \n",
    "dataset.info()"
   ]
  },
  {
   "cell_type": "code",
   "execution_count": 3,
   "metadata": {},
   "outputs": [
    {
     "name": "stdout",
     "output_type": "stream",
     "text": [
      "[[ 73.84701702 241.89356318]\n",
      " [ 68.78190405 162.31047252]\n",
      " [ 74.11010539 212.74085556]\n",
      " ...\n",
      " [ 63.86799221 128.47531878]\n",
      " [ 69.03424313 163.85246135]\n",
      " [ 61.94424588 113.64910268]]\n"
     ]
    }
   ],
   "source": [
    "X_1 = dataset.iloc[:, 0].values\n",
    "X_2 = dataset.iloc[:, 1].values\n",
    "X = np.column_stack((X_1, X_2)) \n",
    "print(X)"
   ]
  },
  {
   "cell_type": "code",
   "execution_count": 4,
   "metadata": {},
   "outputs": [
    {
     "name": "stdout",
     "output_type": "stream",
     "text": [
      "[[ 59.36813918 118.76451826]\n",
      " [ 63.91657834 156.77858596]\n",
      " [ 73.07534485 211.11480969]\n",
      " ...\n",
      " [ 67.46708591 162.47595732]\n",
      " [ 62.12748011 136.78302236]\n",
      " [ 70.59702452 188.45067415]]\n"
     ]
    }
   ],
   "source": [
    "from sklearn.model_selection import train_test_split\n",
    "X_train, X_test = train_test_split(X, test_size=0.2, random_state=0)\n",
    "print(X_train)"
   ]
  },
  {
   "cell_type": "code",
   "execution_count": 5,
   "metadata": {},
   "outputs": [],
   "source": [
    "def get_optimizer():\n",
    "    return Adam(lr=0.0002, beta_1=0.5)\n",
    "\n",
    "random_dim = 2\n",
    "\n",
    "def get_generator(optimizer):\n",
    "    generator = Sequential()\n",
    "    generator.add(Dense(256, input_dim=random_dim, kernel_initializer=initializers.RandomNormal(stddev=0.02)))\n",
    "    generator.add(LeakyReLU(0.2))\n",
    "\n",
    "    generator.add(Dense(512))\n",
    "    generator.add(LeakyReLU(0.2))\n",
    "\n",
    "    generator.add(Dense(1024))\n",
    "    generator.add(LeakyReLU(0.2))\n",
    "\n",
    "    generator.add(Dense(2, activation='tanh'))\n",
    "    generator.compile(loss='binary_crossentropy', optimizer=optimizer)\n",
    "    return generator\n",
    "    \n",
    "def get_discriminator(optimizer):\n",
    "    discriminator = Sequential()\n",
    "    discriminator.add(Dense(1024, input_dim=2, kernel_initializer=initializers.RandomNormal(stddev=0.02)))\n",
    "    discriminator.add(LeakyReLU(0.2))\n",
    "    discriminator.add(Dropout(0.3))\n",
    "\n",
    "    discriminator.add(Dense(512))\n",
    "    discriminator.add(LeakyReLU(0.2))\n",
    "    discriminator.add(Dropout(0.3))\n",
    "\n",
    "    discriminator.add(Dense(256))\n",
    "    discriminator.add(LeakyReLU(0.2))\n",
    "    discriminator.add(Dropout(0.3))\n",
    "\n",
    "    discriminator.add(Dense(1, activation='sigmoid'))\n",
    "    discriminator.compile(loss='binary_crossentropy', optimizer=optimizer)\n",
    "    return discriminator"
   ]
  },
  {
   "cell_type": "code",
   "execution_count": 6,
   "metadata": {},
   "outputs": [],
   "source": [
    "def get_gan_network(discriminator, random_dim, generator, optimizer):\n",
    "    discriminator.trainable = False\n",
    "    gan_input = Input(shape=(random_dim,))\n",
    "    x = generator(gan_input)\n",
    "    gan_output = discriminator(x)\n",
    "    gan = Model(inputs=gan_input, outputs=gan_output)\n",
    "    gan.compile(loss='binary_crossentropy', optimizer=optimizer)\n",
    "    return gan"
   ]
  },
  {
   "cell_type": "code",
   "execution_count": 7,
   "metadata": {},
   "outputs": [],
   "source": [
    "def saveModels(epoch, generator, discriminator, examples=50):\n",
    "    noise = np.random.normal(0, 1, size=[examples, random_dim])\n",
    "    \n",
    "#     fake_to_height = np.random.normal(65, 20, size=[100, 1])\n",
    "#     fake_to_weight = np.random.normal(150, 130, size=[100, 1])\n",
    "#     fake = np.column_stack((fake_to_height, fake_to_weight))\n",
    "    \n",
    "    generatedImages = generator.predict(noise)\n",
    "    for i in range(generatedImages.shape[0]):\n",
    "        print(np.column_stack((generatedImages[i], noise[i])))\n",
    "        \n",
    "    generator.save('models/gan_generator_epoch_%d.h5' % epoch)\n",
    "    discriminator.save('models/gan_discriminator_epoch_%d.h5' % epoch)"
   ]
  },
  {
   "cell_type": "code",
   "execution_count": 8,
   "metadata": {},
   "outputs": [],
   "source": [
    "dLosses = []\n",
    "gLosses = []\n",
    "\n",
    "def train(epochs=1, batch_size=100):\n",
    "    batch_count = X_train.shape[0] / batch_size\n",
    "\n",
    "    # Build our GAN netowrk\n",
    "    adam = get_optimizer()\n",
    "    generator = get_generator(adam)\n",
    "    discriminator = get_discriminator(adam)\n",
    "    gan = get_gan_network(discriminator, random_dim, generator, adam)\n",
    "\n",
    "    for e in range(1, epochs+1):\n",
    "        print('-'*15, 'Epoch %d' % e, '-'*15)\n",
    "        for _ in tqdm(range(int(batch_count))):\n",
    "            noise = np.random.normal(0, 1, size=[batch_size, random_dim])\n",
    "            \n",
    "#             fake_to_height = np.random.normal(65, 20, size=[batch_size, 1])\n",
    "#             fake_to_weight = np.random.normal(150, 150, size=[batch_size, 1])\n",
    "#             fake = np.column_stack((fake_to_height, fake_to_weight))\n",
    "            \n",
    "            image_batch = X_train[np.random.randint(0, X_train.shape[0], size=batch_size)]\n",
    "\n",
    "            # Generate fake images\n",
    "            generated_images = generator.predict(noise)\n",
    "            z = np.concatenate([image_batch, generated_images])\n",
    "\n",
    "            # Labels for generated and real data\n",
    "            y_dis = np.zeros(2*batch_size)\n",
    "            # One-sided label smoothing\n",
    "            y_dis[:batch_size] = 0.9\n",
    "\n",
    "            # Train discriminator\n",
    "            discriminator.trainable = True\n",
    "            dloss = discriminator.train_on_batch(z, y_dis)\n",
    "\n",
    "            # Train generator\n",
    "            noise = np.random.normal(0, 1, size=[batch_size, random_dim])\n",
    "            \n",
    "#             fake_to_height = np.random.normal(65, 20, size=[batch_size, 1])\n",
    "#             fake_to_weight = np.random.normal(150, 130, size=[batch_size, 1])\n",
    "#             fake = np.column_stack((fake_to_height, fake_to_weight))\n",
    "            \n",
    "            y_gen = np.ones(batch_size)\n",
    "            discriminator.trainable = False\n",
    "            gloss = gan.train_on_batch(noise, y_gen)\n",
    "            \n",
    "        dLosses.append(dloss)\n",
    "        gLosses.append(gloss)\n",
    "            \n",
    "        if e == 1 or e % 20 == 0:\n",
    "            saveModels(e, generator, discriminator)\n"
   ]
  },
  {
   "cell_type": "code",
   "execution_count": 9,
   "metadata": {},
   "outputs": [
    {
     "name": "stderr",
     "output_type": "stream",
     "text": [
      "\r",
      "  0%|          | 0/40 [00:00<?, ?it/s]"
     ]
    },
    {
     "name": "stdout",
     "output_type": "stream",
     "text": [
      "--------------- Epoch 1 ---------------\n"
     ]
    },
    {
     "name": "stderr",
     "output_type": "stream",
     "text": [
      "100%|██████████| 40/40 [00:08<00:00,  4.82it/s]\n"
     ]
    },
    {
     "name": "stdout",
     "output_type": "stream",
     "text": [
      "[[0.85126424 0.38906287]\n",
      " [0.9951489  1.24868428]]\n",
      "[[0.69753706 0.4226736 ]\n",
      " [0.96682298 0.08145294]]\n",
      "[[ 0.75442088  0.3054785 ]\n",
      " [ 0.97992092 -0.59326032]]\n",
      "[[ 0.90751129  1.38408313]\n",
      " [ 0.99835318 -1.0790213 ]]\n",
      "[[0.79113322 0.88788252]\n",
      " [0.98774159 0.01235598]]\n",
      "[[ 0.93039739 -1.13467957]\n",
      " [ 0.99918836  1.64663908]]\n",
      "[[ 0.81547177  0.69689151]\n",
      " [ 0.99060619 -0.73254095]]\n",
      "[[ 0.94716322 -1.9649993 ]\n",
      " [ 0.99954271  0.83820601]]\n",
      "[[ 0.87938797 -0.77714051]\n",
      " [ 0.99687868  1.227073  ]]\n",
      "[[ 0.81853467  0.19361296]\n",
      " [ 0.99056816 -0.96777227]]\n",
      "[[ 0.89490044 -1.0168645 ]\n",
      " [ 0.99745077 -1.0874916 ]]\n",
      "[[0.89816076 0.64308057]\n",
      " [0.9981603  1.59814551]]\n",
      "[[ 0.92243868 -1.63034631]\n",
      " [ 0.99876273 -0.56249971]]\n",
      "[[ 0.9584657  -1.3403589 ]\n",
      " [ 0.99971271 -1.94222669]]\n",
      "[[0.84372145 0.79457596]\n",
      " [0.99440956 0.99588074]]\n",
      "[[0.82115775 0.01436085]\n",
      " [0.99196422 1.06457963]]\n",
      "[[ 0.73166311  0.30714945]\n",
      " [ 0.97485322 -0.46960633]]\n",
      "[[ 0.85422146  0.4494731 ]\n",
      " [ 0.99456954 -1.14312417]]\n",
      "[[0.87742555 0.07826705]\n",
      " [0.99698222 1.46956013]]\n",
      "[[ 0.94786996 -1.06396195]\n",
      " [ 0.99951386 -1.86716395]]\n",
      "[[ 0.76426679 -0.51828339]\n",
      " [ 0.98229253  0.48293677]]\n",
      "[[0.8962068  1.54590874]\n",
      " [0.99799097 0.62057404]]\n",
      "[[ 0.77685368  0.78901942]\n",
      " [ 0.9852708  -0.21128982]]\n",
      "[[ 0.7127884  -0.21790887]\n",
      " [ 0.96919781 -0.36312026]]\n",
      "[[0.73079324 0.50206713]\n",
      " [0.97605616 0.32426027]]\n",
      "[[0.84465629 1.06723407]\n",
      " [0.99442303 0.66235601]]\n",
      "[[ 0.7755686   0.54163694]\n",
      " [ 0.98442858 -0.57073096]]\n",
      "[[ 0.73051548 -0.0234877 ]\n",
      " [ 0.97403407 -0.53554696]]\n",
      "[[ 0.74804592  0.65849136]\n",
      " [ 0.97967833 -0.13400981]]\n",
      "[[ 0.942285    0.193688  ]\n",
      " [ 0.99940401 -2.09036758]]\n",
      "[[ 0.95637262 -0.77830017]\n",
      " [ 0.9997499   2.32556015]]\n",
      "[[ 0.87623429 -1.26651201]\n",
      " [ 0.99625444 -0.22239432]]\n",
      "[[0.76822168 0.69405074]\n",
      " [0.98400515 0.36544641]]\n",
      "[[0.67518872 0.17282369]\n",
      " [0.95977795 0.21670718]]\n",
      "[[ 0.88871843  1.43716736]\n",
      " [ 0.99749517 -0.62219477]]\n",
      "[[ 0.84751236 -0.985569  ]\n",
      " [ 0.99410838  0.60379604]]\n",
      "[[ 0.92586499 -0.28400261]\n",
      " [ 0.99892002 -1.82153043]]\n",
      "[[ 0.86680776  0.59729097]\n",
      " [ 0.99569535 -1.18537266]]\n",
      "[[ 0.85356992 -1.12450845]\n",
      " [ 0.99450058  0.25300133]]\n",
      "[[0.68356001 0.32371886]\n",
      " [0.96238798 0.11585453]]\n",
      "[[0.89530313 1.52511428]\n",
      " [0.99795002 0.65574765]]\n",
      "[[ 0.83833915 -0.98496436]\n",
      " [ 0.99273807 -0.35920537]]\n",
      "[[0.83895487 0.06516643]\n",
      " [0.99391252 1.1811773 ]]\n",
      "[[ 0.77520353  0.10065983]\n",
      " [ 0.98379701 -0.74870917]]\n",
      "[[ 0.86458409 -0.70950941]\n",
      " [ 0.99530029 -1.01995359]]\n",
      "[[ 0.96065348 -2.24306549]\n",
      " [ 0.99974889 -0.55461356]]\n",
      "[[ 0.91470796  1.61390198]\n",
      " [ 0.99868822 -0.89006425]]\n",
      "[[ 0.94968748 -1.08118976]\n",
      " [ 0.99955249 -1.89496729]]\n",
      "[[0.86221987 0.07418245]\n",
      " [0.99593103 1.34709673]]\n",
      "[[ 0.82415074 -0.93972261]\n",
      " [ 0.99112773 -0.18074346]]\n"
     ]
    },
    {
     "name": "stderr",
     "output_type": "stream",
     "text": [
      "  2%|▎         | 1/40 [00:00<00:04,  8.46it/s]"
     ]
    },
    {
     "name": "stdout",
     "output_type": "stream",
     "text": [
      "--------------- Epoch 2 ---------------\n"
     ]
    },
    {
     "name": "stderr",
     "output_type": "stream",
     "text": [
      "100%|██████████| 40/40 [00:08<00:00,  4.77it/s]\n",
      "  2%|▎         | 1/40 [00:00<00:06,  5.64it/s]"
     ]
    },
    {
     "name": "stdout",
     "output_type": "stream",
     "text": [
      "--------------- Epoch 3 ---------------\n"
     ]
    },
    {
     "name": "stderr",
     "output_type": "stream",
     "text": [
      "100%|██████████| 40/40 [00:07<00:00,  5.18it/s]\n",
      "  2%|▎         | 1/40 [00:00<00:06,  6.34it/s]"
     ]
    },
    {
     "name": "stdout",
     "output_type": "stream",
     "text": [
      "--------------- Epoch 4 ---------------\n"
     ]
    },
    {
     "name": "stderr",
     "output_type": "stream",
     "text": [
      "100%|██████████| 40/40 [00:07<00:00,  5.25it/s]\n",
      "  2%|▎         | 1/40 [00:00<00:06,  6.34it/s]"
     ]
    },
    {
     "name": "stdout",
     "output_type": "stream",
     "text": [
      "--------------- Epoch 5 ---------------\n"
     ]
    },
    {
     "name": "stderr",
     "output_type": "stream",
     "text": [
      "100%|██████████| 40/40 [00:06<00:00,  5.80it/s]\n",
      "  2%|▎         | 1/40 [00:00<00:06,  5.61it/s]"
     ]
    },
    {
     "name": "stdout",
     "output_type": "stream",
     "text": [
      "--------------- Epoch 6 ---------------\n"
     ]
    },
    {
     "name": "stderr",
     "output_type": "stream",
     "text": [
      "100%|██████████| 40/40 [00:08<00:00,  4.79it/s]\n",
      "  0%|          | 0/40 [00:00<?, ?it/s]"
     ]
    },
    {
     "name": "stdout",
     "output_type": "stream",
     "text": [
      "--------------- Epoch 7 ---------------\n"
     ]
    },
    {
     "name": "stderr",
     "output_type": "stream",
     "text": [
      "100%|██████████| 40/40 [00:08<00:00,  4.58it/s]\n",
      "  0%|          | 0/40 [00:00<?, ?it/s]"
     ]
    },
    {
     "name": "stdout",
     "output_type": "stream",
     "text": [
      "--------------- Epoch 8 ---------------\n"
     ]
    },
    {
     "name": "stderr",
     "output_type": "stream",
     "text": [
      "100%|██████████| 40/40 [00:09<00:00,  4.30it/s]\n",
      "  0%|          | 0/40 [00:00<?, ?it/s]"
     ]
    },
    {
     "name": "stdout",
     "output_type": "stream",
     "text": [
      "--------------- Epoch 9 ---------------\n"
     ]
    },
    {
     "name": "stderr",
     "output_type": "stream",
     "text": [
      "100%|██████████| 40/40 [00:08<00:00,  4.70it/s]\n",
      "  0%|          | 0/40 [00:00<?, ?it/s]"
     ]
    },
    {
     "name": "stdout",
     "output_type": "stream",
     "text": [
      "--------------- Epoch 10 ---------------\n"
     ]
    },
    {
     "name": "stderr",
     "output_type": "stream",
     "text": [
      "100%|██████████| 40/40 [00:08<00:00,  4.85it/s]\n",
      "  2%|▎         | 1/40 [00:00<00:07,  5.18it/s]"
     ]
    },
    {
     "name": "stdout",
     "output_type": "stream",
     "text": [
      "--------------- Epoch 11 ---------------\n"
     ]
    },
    {
     "name": "stderr",
     "output_type": "stream",
     "text": [
      "100%|██████████| 40/40 [00:07<00:00,  5.30it/s]\n",
      "  0%|          | 0/40 [00:00<?, ?it/s]"
     ]
    },
    {
     "name": "stdout",
     "output_type": "stream",
     "text": [
      "--------------- Epoch 12 ---------------\n"
     ]
    },
    {
     "name": "stderr",
     "output_type": "stream",
     "text": [
      "100%|██████████| 40/40 [00:07<00:00,  5.15it/s]\n",
      "  2%|▎         | 1/40 [00:00<00:06,  6.47it/s]"
     ]
    },
    {
     "name": "stdout",
     "output_type": "stream",
     "text": [
      "--------------- Epoch 13 ---------------\n"
     ]
    },
    {
     "name": "stderr",
     "output_type": "stream",
     "text": [
      "100%|██████████| 40/40 [00:06<00:00,  5.73it/s]\n",
      "  0%|          | 0/40 [00:00<?, ?it/s]"
     ]
    },
    {
     "name": "stdout",
     "output_type": "stream",
     "text": [
      "--------------- Epoch 14 ---------------\n"
     ]
    },
    {
     "name": "stderr",
     "output_type": "stream",
     "text": [
      "100%|██████████| 40/40 [00:07<00:00,  5.15it/s]\n",
      "  0%|          | 0/40 [00:00<?, ?it/s]"
     ]
    },
    {
     "name": "stdout",
     "output_type": "stream",
     "text": [
      "--------------- Epoch 15 ---------------\n"
     ]
    },
    {
     "name": "stderr",
     "output_type": "stream",
     "text": [
      "100%|██████████| 40/40 [00:07<00:00,  5.37it/s]\n",
      "  2%|▎         | 1/40 [00:00<00:06,  6.25it/s]"
     ]
    },
    {
     "name": "stdout",
     "output_type": "stream",
     "text": [
      "--------------- Epoch 16 ---------------\n"
     ]
    },
    {
     "name": "stderr",
     "output_type": "stream",
     "text": [
      "100%|██████████| 40/40 [00:07<00:00,  5.55it/s]\n",
      "  2%|▎         | 1/40 [00:00<00:06,  5.96it/s]"
     ]
    },
    {
     "name": "stdout",
     "output_type": "stream",
     "text": [
      "--------------- Epoch 17 ---------------\n"
     ]
    },
    {
     "name": "stderr",
     "output_type": "stream",
     "text": [
      "100%|██████████| 40/40 [00:07<00:00,  5.13it/s]\n",
      "  2%|▎         | 1/40 [00:00<00:06,  6.13it/s]"
     ]
    },
    {
     "name": "stdout",
     "output_type": "stream",
     "text": [
      "--------------- Epoch 18 ---------------\n"
     ]
    },
    {
     "name": "stderr",
     "output_type": "stream",
     "text": [
      "100%|██████████| 40/40 [00:07<00:00,  5.08it/s]\n",
      "  2%|▎         | 1/40 [00:00<00:07,  5.50it/s]"
     ]
    },
    {
     "name": "stdout",
     "output_type": "stream",
     "text": [
      "--------------- Epoch 19 ---------------\n"
     ]
    },
    {
     "name": "stderr",
     "output_type": "stream",
     "text": [
      "100%|██████████| 40/40 [00:07<00:00,  5.23it/s]\n",
      "  2%|▎         | 1/40 [00:00<00:06,  5.59it/s]"
     ]
    },
    {
     "name": "stdout",
     "output_type": "stream",
     "text": [
      "--------------- Epoch 20 ---------------\n"
     ]
    },
    {
     "name": "stderr",
     "output_type": "stream",
     "text": [
      "100%|██████████| 40/40 [00:07<00:00,  5.53it/s]\n"
     ]
    },
    {
     "name": "stdout",
     "output_type": "stream",
     "text": [
      "[[0.94933718 1.36379724]\n",
      " [1.         0.13198236]]\n",
      "[[0.95755529 0.57801934]\n",
      " [1.         0.65499093]]\n",
      "[[0.97291434 0.82133959]\n",
      " [1.         1.27205325]]\n",
      "[[ 0.93850631 -0.08407462]\n",
      " [ 0.99999934 -0.46268619]]\n",
      "[[ 0.95769441 -0.29603414]\n",
      " [ 1.          0.46016399]]\n",
      "[[ 0.9310745   0.33777174]\n",
      " [ 0.99999905 -0.51409035]]\n",
      "[[0.94931757 1.01799829]\n",
      " [1.         0.25731915]]\n",
      "[[ 0.93376875  1.95068767]\n",
      " [ 0.99999952 -1.05897406]]\n",
      "[[0.95865142 0.75660596]\n",
      " [1.         0.66706716]]\n",
      "[[0.97108364 0.90222007]\n",
      " [1.         1.16796687]]\n",
      "[[ 0.98879886 -2.5213144 ]\n",
      " [ 1.         -0.15448044]]\n",
      "[[ 0.93488985  0.8891229 ]\n",
      " [ 0.99999911 -0.18149786]]\n",
      "[[ 0.92746693  1.66135318]\n",
      " [ 0.99999917 -1.17612019]]\n",
      "[[0.96321267 0.26985496]\n",
      " [1.         0.88272776]]\n",
      "[[0.97105306 1.56667898]\n",
      " [1.         0.9571393 ]]\n",
      "[[0.9666065  0.0781609 ]\n",
      " [1.         0.99451874]]\n",
      "[[ 0.97455305 -1.54197466]\n",
      " [ 1.         -0.46460524]]\n",
      "[[0.94569093 0.19989851]\n",
      " [0.99999964 0.18384597]]\n",
      "[[0.94910526 1.35373316]\n",
      " [1.         0.12860271]]\n",
      "[[0.95777506 0.76668626]\n",
      " [1.         0.63123253]]\n",
      "[[ 0.95386058 -0.67895718]\n",
      " [ 1.         -0.69346628]]\n",
      "[[ 0.96748859 -0.98653602]\n",
      " [ 1.         -1.88020479]]\n",
      "[[ 0.98617429 -2.2492996 ]\n",
      " [ 1.         -0.05833696]]\n",
      "[[ 0.97501981 -0.61639031]\n",
      " [ 1.          1.18793191]]\n",
      "[[ 0.95332217 -0.54561114]\n",
      " [ 1.         -1.37596672]]\n",
      "[[ 0.98218465 -0.84984531]\n",
      " [ 1.          1.56013805]]\n",
      "[[0.97423226 0.36191288]\n",
      " [1.         1.36149666]]\n",
      "[[ 0.94623566 -0.405213  ]\n",
      " [ 0.9999997  -0.58341568]]\n",
      "[[0.94450206 0.58923844]\n",
      " [0.99999958 0.20995289]]\n",
      "[[ 0.98342574 -2.04060388]\n",
      " [ 1.         -0.10715358]]\n",
      "[[ 0.9243418   0.68644636]\n",
      " [ 0.99999881 -1.52985653]]\n",
      "[[ 0.98813629 -2.50247087]\n",
      " [ 1.         -0.62593706]]\n",
      "[[ 0.9478634  -0.18439191]\n",
      " [ 0.99999976  0.00156796]]\n",
      "[[0.96911204 0.60655507]\n",
      " [1.         1.11701625]]\n",
      "[[ 0.94887573 -0.36927684]\n",
      " [ 1.         -1.4690124 ]]\n",
      "[[ 0.96335959 -1.02384693]\n",
      " [ 1.         -0.33754202]]\n",
      "[[ 0.92541832  1.08925449]\n",
      " [ 0.99999869 -0.70278927]]\n",
      "[[ 0.96815884 -0.71331808]\n",
      " [ 1.          0.69076669]]\n",
      "[[0.97503328 0.34083952]\n",
      " [1.         1.40063951]]\n",
      "[[ 0.93783879  0.20610881]\n",
      " [ 0.99999964 -1.98817137]]\n",
      "[[ 0.94660306 -0.21701824]\n",
      " [ 0.99999964 -0.09112412]]\n",
      "[[ 0.95033717 -0.45053737]\n",
      " [ 1.         -0.15451458]]\n",
      "[[ 0.9580363  -0.77808093]\n",
      " [ 1.         -0.18258521]]\n",
      "[[ 0.95368862  2.33435881]\n",
      " [ 1.         -0.31028231]]\n",
      "[[ 0.94483304 -0.31461866]\n",
      " [ 0.99999958 -0.83135422]]\n",
      "[[ 0.971026   -0.3766116 ]\n",
      " [ 1.          1.08186526]]\n",
      "[[0.94249755 0.39105542]\n",
      " [0.99999952 0.11056697]]\n",
      "[[ 0.97266728 -1.35537122]\n",
      " [ 1.          0.08596153]]\n",
      "[[ 0.97489983 -1.08760579]\n",
      " [ 1.          0.7790522 ]]\n",
      "[[ 0.939125   -0.13897204]\n",
      " [ 0.9999994  -0.58880989]]\n"
     ]
    },
    {
     "name": "stderr",
     "output_type": "stream",
     "text": [
      "  2%|▎         | 1/40 [00:00<00:06,  5.97it/s]"
     ]
    },
    {
     "name": "stdout",
     "output_type": "stream",
     "text": [
      "--------------- Epoch 21 ---------------\n"
     ]
    },
    {
     "name": "stderr",
     "output_type": "stream",
     "text": [
      "100%|██████████| 40/40 [00:07<00:00,  5.44it/s]\n",
      "  2%|▎         | 1/40 [00:00<00:07,  5.43it/s]"
     ]
    },
    {
     "name": "stdout",
     "output_type": "stream",
     "text": [
      "--------------- Epoch 22 ---------------\n"
     ]
    },
    {
     "name": "stderr",
     "output_type": "stream",
     "text": [
      "100%|██████████| 40/40 [00:07<00:00,  5.31it/s]\n",
      "  2%|▎         | 1/40 [00:00<00:06,  6.26it/s]"
     ]
    },
    {
     "name": "stdout",
     "output_type": "stream",
     "text": [
      "--------------- Epoch 23 ---------------\n"
     ]
    },
    {
     "name": "stderr",
     "output_type": "stream",
     "text": [
      "100%|██████████| 40/40 [00:07<00:00,  5.28it/s]\n",
      "  2%|▎         | 1/40 [00:00<00:05,  6.78it/s]"
     ]
    },
    {
     "name": "stdout",
     "output_type": "stream",
     "text": [
      "--------------- Epoch 24 ---------------\n"
     ]
    },
    {
     "name": "stderr",
     "output_type": "stream",
     "text": [
      "100%|██████████| 40/40 [00:07<00:00,  5.36it/s]\n",
      "  2%|▎         | 1/40 [00:00<00:06,  5.83it/s]"
     ]
    },
    {
     "name": "stdout",
     "output_type": "stream",
     "text": [
      "--------------- Epoch 25 ---------------\n"
     ]
    },
    {
     "name": "stderr",
     "output_type": "stream",
     "text": [
      "100%|██████████| 40/40 [00:08<00:00,  4.69it/s]\n",
      "  2%|▎         | 1/40 [00:00<00:07,  5.50it/s]"
     ]
    },
    {
     "name": "stdout",
     "output_type": "stream",
     "text": [
      "--------------- Epoch 26 ---------------\n"
     ]
    },
    {
     "name": "stderr",
     "output_type": "stream",
     "text": [
      "100%|██████████| 40/40 [00:07<00:00,  5.05it/s]\n",
      "  0%|          | 0/40 [00:00<?, ?it/s]"
     ]
    },
    {
     "name": "stdout",
     "output_type": "stream",
     "text": [
      "--------------- Epoch 27 ---------------\n"
     ]
    },
    {
     "name": "stderr",
     "output_type": "stream",
     "text": [
      "100%|██████████| 40/40 [00:07<00:00,  5.03it/s]\n",
      "  2%|▎         | 1/40 [00:00<00:07,  5.08it/s]"
     ]
    },
    {
     "name": "stdout",
     "output_type": "stream",
     "text": [
      "--------------- Epoch 28 ---------------\n"
     ]
    },
    {
     "name": "stderr",
     "output_type": "stream",
     "text": [
      "100%|██████████| 40/40 [00:07<00:00,  5.37it/s]\n",
      "  2%|▎         | 1/40 [00:00<00:06,  6.02it/s]"
     ]
    },
    {
     "name": "stdout",
     "output_type": "stream",
     "text": [
      "--------------- Epoch 29 ---------------\n"
     ]
    },
    {
     "name": "stderr",
     "output_type": "stream",
     "text": [
      "100%|██████████| 40/40 [00:07<00:00,  5.27it/s]\n",
      "  2%|▎         | 1/40 [00:00<00:06,  5.61it/s]"
     ]
    },
    {
     "name": "stdout",
     "output_type": "stream",
     "text": [
      "--------------- Epoch 30 ---------------\n"
     ]
    },
    {
     "name": "stderr",
     "output_type": "stream",
     "text": [
      "100%|██████████| 40/40 [00:07<00:00,  5.39it/s]\n",
      "  2%|▎         | 1/40 [00:00<00:06,  5.77it/s]"
     ]
    },
    {
     "name": "stdout",
     "output_type": "stream",
     "text": [
      "--------------- Epoch 31 ---------------\n"
     ]
    },
    {
     "name": "stderr",
     "output_type": "stream",
     "text": [
      "100%|██████████| 40/40 [00:07<00:00,  5.44it/s]\n",
      "  2%|▎         | 1/40 [00:00<00:06,  5.75it/s]"
     ]
    },
    {
     "name": "stdout",
     "output_type": "stream",
     "text": [
      "--------------- Epoch 32 ---------------\n"
     ]
    },
    {
     "name": "stderr",
     "output_type": "stream",
     "text": [
      "100%|██████████| 40/40 [00:07<00:00,  5.70it/s]\n",
      "  2%|▎         | 1/40 [00:00<00:07,  5.44it/s]"
     ]
    },
    {
     "name": "stdout",
     "output_type": "stream",
     "text": [
      "--------------- Epoch 33 ---------------\n"
     ]
    },
    {
     "name": "stderr",
     "output_type": "stream",
     "text": [
      "100%|██████████| 40/40 [00:06<00:00,  5.80it/s]\n",
      "  0%|          | 0/40 [00:00<?, ?it/s]"
     ]
    },
    {
     "name": "stdout",
     "output_type": "stream",
     "text": [
      "--------------- Epoch 34 ---------------\n"
     ]
    },
    {
     "name": "stderr",
     "output_type": "stream",
     "text": [
      "100%|██████████| 40/40 [00:07<00:00,  5.27it/s]\n",
      "  2%|▎         | 1/40 [00:00<00:06,  5.62it/s]"
     ]
    },
    {
     "name": "stdout",
     "output_type": "stream",
     "text": [
      "--------------- Epoch 35 ---------------\n"
     ]
    },
    {
     "name": "stderr",
     "output_type": "stream",
     "text": [
      "100%|██████████| 40/40 [00:07<00:00,  5.62it/s]\n",
      "  2%|▎         | 1/40 [00:00<00:06,  6.50it/s]"
     ]
    },
    {
     "name": "stdout",
     "output_type": "stream",
     "text": [
      "--------------- Epoch 36 ---------------\n"
     ]
    },
    {
     "name": "stderr",
     "output_type": "stream",
     "text": [
      "100%|██████████| 40/40 [00:06<00:00,  6.00it/s]\n",
      "  2%|▎         | 1/40 [00:00<00:06,  5.98it/s]"
     ]
    },
    {
     "name": "stdout",
     "output_type": "stream",
     "text": [
      "--------------- Epoch 37 ---------------\n"
     ]
    },
    {
     "name": "stderr",
     "output_type": "stream",
     "text": [
      "100%|██████████| 40/40 [00:07<00:00,  5.15it/s]\n",
      "  0%|          | 0/40 [00:00<?, ?it/s]"
     ]
    },
    {
     "name": "stdout",
     "output_type": "stream",
     "text": [
      "--------------- Epoch 38 ---------------\n"
     ]
    },
    {
     "name": "stderr",
     "output_type": "stream",
     "text": [
      "100%|██████████| 40/40 [00:07<00:00,  5.63it/s]\n",
      "  2%|▎         | 1/40 [00:00<00:07,  5.55it/s]"
     ]
    },
    {
     "name": "stdout",
     "output_type": "stream",
     "text": [
      "--------------- Epoch 39 ---------------\n"
     ]
    },
    {
     "name": "stderr",
     "output_type": "stream",
     "text": [
      "100%|██████████| 40/40 [00:07<00:00,  5.41it/s]\n",
      "  2%|▎         | 1/40 [00:00<00:07,  5.17it/s]"
     ]
    },
    {
     "name": "stdout",
     "output_type": "stream",
     "text": [
      "--------------- Epoch 40 ---------------\n"
     ]
    },
    {
     "name": "stderr",
     "output_type": "stream",
     "text": [
      "100%|██████████| 40/40 [00:07<00:00,  5.43it/s]\n"
     ]
    },
    {
     "name": "stdout",
     "output_type": "stream",
     "text": [
      "[[ 0.99994659 -0.09722916]\n",
      " [ 1.         -0.0139194 ]]\n",
      "[[ 0.9999814  -0.6649391 ]\n",
      " [ 1.         -1.13422606]]\n",
      "[[ 0.99998367 -1.12758506]\n",
      " [ 1.          0.52904258]]\n",
      "[[ 0.99994725 -0.0855638 ]\n",
      " [ 1.          0.06349067]]\n",
      "[[ 0.99999094 -0.46226106]\n",
      " [ 1.         -1.93206793]]\n",
      "[[0.99997526 0.69298263]\n",
      " [1.         0.93036365]]\n",
      "[[ 0.99997288 -0.4506391 ]\n",
      " [ 1.         -1.01623256]]\n",
      "[[ 0.9999848  -0.48453361]\n",
      " [ 1.          1.30056676]]\n",
      "[[ 0.9999662   0.77118205]\n",
      " [ 1.         -1.53370991]]\n",
      "[[0.99997437 0.41218382]\n",
      " [1.         0.99878879]]\n",
      "[[ 0.99995261 -0.19241126]\n",
      " [ 1.          0.24925085]]\n",
      "[[ 0.99996448  0.14841719]\n",
      " [ 1.         -1.27170834]]\n",
      "[[ 0.99995267  1.27421524]\n",
      " [ 1.         -0.75779443]]\n",
      "[[ 0.99995762  0.89891435]\n",
      " [ 1.         -1.26615227]]\n",
      "[[ 9.99981225e-01 -6.54614487e-05]\n",
      " [ 1.00000000e+00 -1.71923807e+00]]\n",
      "[[0.99997252 1.56712213]\n",
      " [1.         0.11238782]]\n",
      "[[ 0.99996382 -0.5657707 ]\n",
      " [ 1.          0.29181088]]\n",
      "[[ 0.99993312  0.30698959]\n",
      " [ 1.         -0.23627562]]\n",
      "[[ 0.99993497  0.78917953]\n",
      " [ 1.         -0.19786595]]\n",
      "[[ 0.99995202  0.5532607 ]\n",
      " [ 1.         -1.07991072]]\n",
      "[[0.99999708 1.21905718]\n",
      " [1.         2.0763883 ]]\n",
      "[[ 0.99997205 -0.60691278]\n",
      " [ 1.         -0.81365245]]\n",
      "[[ 0.99999732 -2.18310917]\n",
      " [ 1.         -0.04113286]]\n",
      "[[0.99997169 0.92685389]\n",
      " [1.         0.70820311]]\n",
      "[[ 0.99998242 -0.88853944]\n",
      " [ 1.         -0.91586822]]\n",
      "[[ 0.99998695 -0.75958379]\n",
      " [ 1.          1.26547473]]\n",
      "[[ 0.99998415 -1.25098745]\n",
      " [ 1.          0.06954712]]\n",
      "[[ 0.99993467  0.18751555]\n",
      " [ 1.         -0.34902552]]\n",
      "[[ 0.99996829 -0.02302997]\n",
      " [ 1.          0.89147119]]\n",
      "[[0.99996436 0.23234129]\n",
      " [1.         0.80871755]]\n",
      "[[ 0.99999571 -1.97309432]\n",
      " [ 1.          0.23877974]]\n",
      "[[ 0.99998569 -0.25577809]\n",
      " [ 1.          1.38441844]]\n",
      "[[ 0.99996054 -0.47195567]\n",
      " [ 1.          0.26989413]]\n",
      "[[ 0.99996859  1.73746149]\n",
      " [ 1.         -1.16865182]]\n",
      "[[ 0.99998742 -1.32716958]\n",
      " [ 1.          0.46443914]]\n",
      "[[ 0.99999917 -0.20975698]\n",
      " [ 1.          2.95664611]]\n",
      "[[ 0.99998361  0.31872748]\n",
      " [ 1.         -2.01911932]]\n",
      "[[ 0.99999207 -1.07557476]\n",
      " [ 1.          1.44876646]]\n",
      "[[0.99995625 0.15682156]\n",
      " [1.         0.62627341]]\n",
      "[[ 0.99999768 -2.24327675]\n",
      " [ 1.          0.02932581]]\n",
      "[[0.99998987 1.65428386]\n",
      " [1.         0.978846  ]]\n",
      "[[ 0.99997413 -0.82899201]\n",
      " [ 1.         -0.52695667]]\n",
      "[[ 0.99994481 -0.04096808]\n",
      " [ 1.         -0.03398532]]\n",
      "[[ 0.99997872  0.15821528]\n",
      " [ 1.         -1.72935869]]\n",
      "[[0.99999571 0.85648237]\n",
      " [1.         1.97872308]]\n",
      "[[ 0.99996734 -0.23488782]\n",
      " [ 1.          0.79957609]]\n",
      "[[ 0.99995589 -0.41381172]\n",
      " [ 1.         -0.40655011]]\n",
      "[[ 0.99997294  0.42615852]\n",
      " [ 1.         -1.66527327]]\n",
      "[[0.99995166 1.01441268]\n",
      " [1.         0.14307336]]\n",
      "[[ 0.99999601 -0.45568043]\n",
      " [ 1.          2.09301893]]\n"
     ]
    },
    {
     "name": "stderr",
     "output_type": "stream",
     "text": [
      "  2%|▎         | 1/40 [00:00<00:05,  6.81it/s]"
     ]
    },
    {
     "name": "stdout",
     "output_type": "stream",
     "text": [
      "--------------- Epoch 41 ---------------\n"
     ]
    },
    {
     "name": "stderr",
     "output_type": "stream",
     "text": [
      "100%|██████████| 40/40 [00:07<00:00,  5.39it/s]\n",
      "  2%|▎         | 1/40 [00:00<00:05,  6.72it/s]"
     ]
    },
    {
     "name": "stdout",
     "output_type": "stream",
     "text": [
      "--------------- Epoch 42 ---------------\n"
     ]
    },
    {
     "name": "stderr",
     "output_type": "stream",
     "text": [
      "100%|██████████| 40/40 [00:07<00:00,  5.31it/s]\n",
      "  2%|▎         | 1/40 [00:00<00:07,  5.09it/s]"
     ]
    },
    {
     "name": "stdout",
     "output_type": "stream",
     "text": [
      "--------------- Epoch 43 ---------------\n"
     ]
    },
    {
     "name": "stderr",
     "output_type": "stream",
     "text": [
      "100%|██████████| 40/40 [00:07<00:00,  5.25it/s]\n",
      "  2%|▎         | 1/40 [00:00<00:07,  5.29it/s]"
     ]
    },
    {
     "name": "stdout",
     "output_type": "stream",
     "text": [
      "--------------- Epoch 44 ---------------\n"
     ]
    },
    {
     "name": "stderr",
     "output_type": "stream",
     "text": [
      "100%|██████████| 40/40 [00:07<00:00,  5.19it/s]\n",
      "  0%|          | 0/40 [00:00<?, ?it/s]"
     ]
    },
    {
     "name": "stdout",
     "output_type": "stream",
     "text": [
      "--------------- Epoch 45 ---------------\n"
     ]
    },
    {
     "name": "stderr",
     "output_type": "stream",
     "text": [
      "100%|██████████| 40/40 [00:07<00:00,  5.30it/s]\n",
      "  0%|          | 0/40 [00:00<?, ?it/s]"
     ]
    },
    {
     "name": "stdout",
     "output_type": "stream",
     "text": [
      "--------------- Epoch 46 ---------------\n"
     ]
    },
    {
     "name": "stderr",
     "output_type": "stream",
     "text": [
      "100%|██████████| 40/40 [00:07<00:00,  5.09it/s]\n",
      "  2%|▎         | 1/40 [00:00<00:06,  5.77it/s]"
     ]
    },
    {
     "name": "stdout",
     "output_type": "stream",
     "text": [
      "--------------- Epoch 47 ---------------\n"
     ]
    },
    {
     "name": "stderr",
     "output_type": "stream",
     "text": [
      "100%|██████████| 40/40 [00:07<00:00,  5.15it/s]\n",
      "  2%|▎         | 1/40 [00:00<00:06,  5.63it/s]"
     ]
    },
    {
     "name": "stdout",
     "output_type": "stream",
     "text": [
      "--------------- Epoch 48 ---------------\n"
     ]
    },
    {
     "name": "stderr",
     "output_type": "stream",
     "text": [
      "100%|██████████| 40/40 [00:07<00:00,  5.40it/s]\n",
      "  0%|          | 0/40 [00:00<?, ?it/s]"
     ]
    },
    {
     "name": "stdout",
     "output_type": "stream",
     "text": [
      "--------------- Epoch 49 ---------------\n"
     ]
    },
    {
     "name": "stderr",
     "output_type": "stream",
     "text": [
      "100%|██████████| 40/40 [00:07<00:00,  5.50it/s]\n",
      "  0%|          | 0/40 [00:00<?, ?it/s]"
     ]
    },
    {
     "name": "stdout",
     "output_type": "stream",
     "text": [
      "--------------- Epoch 50 ---------------\n"
     ]
    },
    {
     "name": "stderr",
     "output_type": "stream",
     "text": [
      "100%|██████████| 40/40 [00:08<00:00,  4.72it/s]\n",
      "  2%|▎         | 1/40 [00:00<00:06,  6.02it/s]"
     ]
    },
    {
     "name": "stdout",
     "output_type": "stream",
     "text": [
      "--------------- Epoch 51 ---------------\n"
     ]
    },
    {
     "name": "stderr",
     "output_type": "stream",
     "text": [
      "100%|██████████| 40/40 [00:06<00:00,  5.89it/s]\n",
      "  0%|          | 0/40 [00:00<?, ?it/s]"
     ]
    },
    {
     "name": "stdout",
     "output_type": "stream",
     "text": [
      "--------------- Epoch 52 ---------------\n"
     ]
    },
    {
     "name": "stderr",
     "output_type": "stream",
     "text": [
      "100%|██████████| 40/40 [00:07<00:00,  5.41it/s]\n",
      "  0%|          | 0/40 [00:00<?, ?it/s]"
     ]
    },
    {
     "name": "stdout",
     "output_type": "stream",
     "text": [
      "--------------- Epoch 53 ---------------\n"
     ]
    },
    {
     "name": "stderr",
     "output_type": "stream",
     "text": [
      "100%|██████████| 40/40 [00:07<00:00,  5.04it/s]\n",
      "  0%|          | 0/40 [00:00<?, ?it/s]"
     ]
    },
    {
     "name": "stdout",
     "output_type": "stream",
     "text": [
      "--------------- Epoch 54 ---------------\n"
     ]
    },
    {
     "name": "stderr",
     "output_type": "stream",
     "text": [
      "100%|██████████| 40/40 [00:07<00:00,  5.19it/s]\n",
      "  0%|          | 0/40 [00:00<?, ?it/s]"
     ]
    },
    {
     "name": "stdout",
     "output_type": "stream",
     "text": [
      "--------------- Epoch 55 ---------------\n"
     ]
    },
    {
     "name": "stderr",
     "output_type": "stream",
     "text": [
      "100%|██████████| 40/40 [00:08<00:00,  4.93it/s]\n",
      "  2%|▎         | 1/40 [00:00<00:06,  5.70it/s]"
     ]
    },
    {
     "name": "stdout",
     "output_type": "stream",
     "text": [
      "--------------- Epoch 56 ---------------\n"
     ]
    },
    {
     "name": "stderr",
     "output_type": "stream",
     "text": [
      "100%|██████████| 40/40 [00:07<00:00,  5.13it/s]\n",
      "  0%|          | 0/40 [00:00<?, ?it/s]"
     ]
    },
    {
     "name": "stdout",
     "output_type": "stream",
     "text": [
      "--------------- Epoch 57 ---------------\n"
     ]
    },
    {
     "name": "stderr",
     "output_type": "stream",
     "text": [
      "100%|██████████| 40/40 [00:08<00:00,  4.86it/s]\n",
      "  2%|▎         | 1/40 [00:00<00:07,  5.53it/s]"
     ]
    },
    {
     "name": "stdout",
     "output_type": "stream",
     "text": [
      "--------------- Epoch 58 ---------------\n"
     ]
    },
    {
     "name": "stderr",
     "output_type": "stream",
     "text": [
      "100%|██████████| 40/40 [00:07<00:00,  5.03it/s]\n",
      "  2%|▎         | 1/40 [00:00<00:07,  5.46it/s]"
     ]
    },
    {
     "name": "stdout",
     "output_type": "stream",
     "text": [
      "--------------- Epoch 59 ---------------\n"
     ]
    },
    {
     "name": "stderr",
     "output_type": "stream",
     "text": [
      "100%|██████████| 40/40 [00:07<00:00,  5.01it/s]\n",
      "  2%|▎         | 1/40 [00:00<00:06,  5.83it/s]"
     ]
    },
    {
     "name": "stdout",
     "output_type": "stream",
     "text": [
      "--------------- Epoch 60 ---------------\n"
     ]
    },
    {
     "name": "stderr",
     "output_type": "stream",
     "text": [
      "100%|██████████| 40/40 [00:07<00:00,  5.27it/s]\n"
     ]
    },
    {
     "name": "stdout",
     "output_type": "stream",
     "text": [
      "[[ 0.99999696  0.30204531]\n",
      " [ 1.         -1.26988376]]\n",
      "[[ 0.9999997  -1.73886044]\n",
      " [ 1.         -1.04727256]]\n",
      "[[ 0.99999905 -0.99247109]\n",
      " [ 1.         -1.14134537]]\n",
      "[[ 0.9999972  -0.10912004]\n",
      " [ 1.          1.06012144]]\n",
      "[[ 0.99999505  1.01739047]\n",
      " [ 1.         -0.2989726 ]]\n",
      "[[ 0.99999881  1.24048047]\n",
      " [ 1.         -1.95080422]]\n",
      "[[ 0.99999893 -0.60131887]\n",
      " [ 1.         -1.4699702 ]]\n",
      "[[ 0.99999356  0.5858412 ]\n",
      " [ 1.         -0.36903839]]\n",
      "[[ 0.99999428 -0.08801271]\n",
      " [ 1.          0.10071344]]\n",
      "[[0.9999938  0.40045113]\n",
      " [1.         0.15133878]]\n",
      "[[0.9999969  0.56995826]\n",
      " [1.         0.8034821 ]]\n",
      "[[1.         1.64891033]\n",
      " [1.         2.49377108]]\n",
      "[[ 0.99999607 -0.49776869]\n",
      " [ 1.         -0.62195056]]\n",
      "[[0.99999356 0.3805011 ]\n",
      " [1.         0.0180614 ]]\n",
      "[[0.9999944  0.04033707]\n",
      " [1.         0.391568  ]]\n",
      "[[ 0.9999997  -0.27796504]\n",
      " [ 1.          2.2429593 ]]\n",
      "[[0.99999964 1.00778045]\n",
      " [1.         1.89288942]]\n",
      "[[ 1.         -2.22761111]\n",
      " [ 1.          0.14275239]]\n",
      "[[ 0.99999404 -0.13395072]\n",
      " [ 1.         -0.26305275]]\n",
      "[[ 0.9999938  -0.01823214]\n",
      " [ 1.         -0.25612297]]\n",
      "[[ 0.99999803 -0.3037333 ]\n",
      " [ 1.          1.28957177]]\n",
      "[[ 0.99999893  2.1601433 ]\n",
      " [ 1.         -0.35102219]]\n",
      "[[ 0.99999696 -0.33607213]\n",
      " [ 1.          0.95777817]]\n",
      "[[ 0.99999344  0.22858815]\n",
      " [ 1.         -0.40299729]]\n",
      "[[ 0.99999565 -0.41534216]\n",
      " [ 1.          0.5087034 ]]\n",
      "[[ 1.         -2.19564837]\n",
      " [ 1.          1.40442702]]\n",
      "[[ 0.99999535 -0.53240036]\n",
      " [ 1.         -0.16715716]]\n",
      "[[1.         0.81992078]\n",
      " [1.         2.34376952]]\n",
      "[[0.99999768 1.05063788]\n",
      " [1.         0.67524738]]\n",
      "[[ 0.99999726 -0.57067208]\n",
      " [ 1.          0.90883288]]\n",
      "[[ 0.9999966  -0.17823502]\n",
      " [ 1.         -0.98079361]]\n",
      "[[ 0.9999947  -0.37754802]\n",
      " [ 1.         -0.10378529]]\n",
      "[[ 0.99999762  1.64708316]\n",
      " [ 1.         -0.74039826]]\n",
      "[[ 0.99999779 -0.64512291]\n",
      " [ 1.         -0.93111621]]\n",
      "[[0.99999648 1.04333548]\n",
      " [1.         0.30184106]]\n",
      "[[ 0.9999969   1.42931239]\n",
      " [ 1.         -0.32768116]]\n",
      "[[ 0.99999964 -0.01547647]\n",
      " [ 1.         -2.45468063]]\n",
      "[[ 0.99999815  0.09890536]\n",
      " [ 1.         -1.49316904]]\n",
      "[[0.99999893 1.3891425 ]\n",
      " [1.         1.00389703]]\n",
      "[[0.99999654 0.65644342]\n",
      " [1.         0.65407776]]\n",
      "[[ 0.9999944  -0.14611071]\n",
      " [ 1.          0.09556301]]\n",
      "[[ 0.99999607 -0.09275376]\n",
      " [ 1.         -0.92723585]]\n",
      "[[ 0.99999756  1.41086652]\n",
      " [ 1.         -1.13532041]]\n",
      "[[ 0.99999481 -0.11643233]\n",
      " [ 1.          0.44424394]]\n",
      "[[ 0.99999762 -0.54318174]\n",
      " [ 1.          1.07659827]]\n",
      "[[ 0.9999994   2.45808155]\n",
      " [ 1.         -0.17338566]]\n",
      "[[ 0.99999821 -1.25050518]\n",
      " [ 1.         -0.10082856]]\n",
      "[[ 0.99999642 -0.47131674]\n",
      " [ 1.          0.72294328]]\n",
      "[[ 0.99999517 -0.46036595]\n",
      " [ 1.         -0.26988892]]\n",
      "[[ 0.99999768 -0.74236334]\n",
      " [ 1.         -0.81851187]]\n"
     ]
    },
    {
     "name": "stderr",
     "output_type": "stream",
     "text": [
      "  2%|▎         | 1/40 [00:00<00:06,  5.69it/s]"
     ]
    },
    {
     "name": "stdout",
     "output_type": "stream",
     "text": [
      "--------------- Epoch 61 ---------------\n"
     ]
    },
    {
     "name": "stderr",
     "output_type": "stream",
     "text": [
      "100%|██████████| 40/40 [00:07<00:00,  5.52it/s]\n",
      "  2%|▎         | 1/40 [00:00<00:07,  5.26it/s]"
     ]
    },
    {
     "name": "stdout",
     "output_type": "stream",
     "text": [
      "--------------- Epoch 62 ---------------\n"
     ]
    },
    {
     "name": "stderr",
     "output_type": "stream",
     "text": [
      "100%|██████████| 40/40 [00:07<00:00,  5.58it/s]\n",
      "  0%|          | 0/40 [00:00<?, ?it/s]"
     ]
    },
    {
     "name": "stdout",
     "output_type": "stream",
     "text": [
      "--------------- Epoch 63 ---------------\n"
     ]
    },
    {
     "name": "stderr",
     "output_type": "stream",
     "text": [
      "100%|██████████| 40/40 [00:07<00:00,  5.60it/s]\n",
      "  2%|▎         | 1/40 [00:00<00:06,  6.07it/s]"
     ]
    },
    {
     "name": "stdout",
     "output_type": "stream",
     "text": [
      "--------------- Epoch 64 ---------------\n"
     ]
    },
    {
     "name": "stderr",
     "output_type": "stream",
     "text": [
      "100%|██████████| 40/40 [00:07<00:00,  5.08it/s]\n",
      "  0%|          | 0/40 [00:00<?, ?it/s]"
     ]
    },
    {
     "name": "stdout",
     "output_type": "stream",
     "text": [
      "--------------- Epoch 65 ---------------\n"
     ]
    },
    {
     "name": "stderr",
     "output_type": "stream",
     "text": [
      "100%|██████████| 40/40 [00:07<00:00,  5.57it/s]\n",
      "  0%|          | 0/40 [00:00<?, ?it/s]"
     ]
    },
    {
     "name": "stdout",
     "output_type": "stream",
     "text": [
      "--------------- Epoch 66 ---------------\n"
     ]
    },
    {
     "name": "stderr",
     "output_type": "stream",
     "text": [
      "100%|██████████| 40/40 [00:07<00:00,  5.49it/s]\n",
      "  2%|▎         | 1/40 [00:00<00:06,  6.31it/s]"
     ]
    },
    {
     "name": "stdout",
     "output_type": "stream",
     "text": [
      "--------------- Epoch 67 ---------------\n"
     ]
    },
    {
     "name": "stderr",
     "output_type": "stream",
     "text": [
      "100%|██████████| 40/40 [00:08<00:00,  4.60it/s]\n",
      "  0%|          | 0/40 [00:00<?, ?it/s]"
     ]
    },
    {
     "name": "stdout",
     "output_type": "stream",
     "text": [
      "--------------- Epoch 68 ---------------\n"
     ]
    },
    {
     "name": "stderr",
     "output_type": "stream",
     "text": [
      "100%|██████████| 40/40 [00:08<00:00,  4.80it/s]\n",
      "  2%|▎         | 1/40 [00:00<00:07,  5.14it/s]"
     ]
    },
    {
     "name": "stdout",
     "output_type": "stream",
     "text": [
      "--------------- Epoch 69 ---------------\n"
     ]
    },
    {
     "name": "stderr",
     "output_type": "stream",
     "text": [
      "100%|██████████| 40/40 [00:07<00:00,  5.39it/s]\n",
      "  2%|▎         | 1/40 [00:00<00:06,  5.62it/s]"
     ]
    },
    {
     "name": "stdout",
     "output_type": "stream",
     "text": [
      "--------------- Epoch 70 ---------------\n"
     ]
    },
    {
     "name": "stderr",
     "output_type": "stream",
     "text": [
      "100%|██████████| 40/40 [00:07<00:00,  5.25it/s]\n",
      "  0%|          | 0/40 [00:00<?, ?it/s]"
     ]
    },
    {
     "name": "stdout",
     "output_type": "stream",
     "text": [
      "--------------- Epoch 71 ---------------\n"
     ]
    },
    {
     "name": "stderr",
     "output_type": "stream",
     "text": [
      "100%|██████████| 40/40 [00:07<00:00,  5.06it/s]\n",
      "  0%|          | 0/40 [00:00<?, ?it/s]"
     ]
    },
    {
     "name": "stdout",
     "output_type": "stream",
     "text": [
      "--------------- Epoch 72 ---------------\n"
     ]
    },
    {
     "name": "stderr",
     "output_type": "stream",
     "text": [
      "100%|██████████| 40/40 [00:07<00:00,  5.35it/s]\n",
      "  2%|▎         | 1/40 [00:00<00:06,  5.90it/s]"
     ]
    },
    {
     "name": "stdout",
     "output_type": "stream",
     "text": [
      "--------------- Epoch 73 ---------------\n"
     ]
    },
    {
     "name": "stderr",
     "output_type": "stream",
     "text": [
      "100%|██████████| 40/40 [00:07<00:00,  5.40it/s]\n",
      "  2%|▎         | 1/40 [00:00<00:06,  6.48it/s]"
     ]
    },
    {
     "name": "stdout",
     "output_type": "stream",
     "text": [
      "--------------- Epoch 74 ---------------\n"
     ]
    },
    {
     "name": "stderr",
     "output_type": "stream",
     "text": [
      "100%|██████████| 40/40 [00:07<00:00,  5.22it/s]\n",
      "  0%|          | 0/40 [00:00<?, ?it/s]"
     ]
    },
    {
     "name": "stdout",
     "output_type": "stream",
     "text": [
      "--------------- Epoch 75 ---------------\n"
     ]
    },
    {
     "name": "stderr",
     "output_type": "stream",
     "text": [
      "100%|██████████| 40/40 [00:08<00:00,  4.77it/s]\n",
      "  0%|          | 0/40 [00:00<?, ?it/s]"
     ]
    },
    {
     "name": "stdout",
     "output_type": "stream",
     "text": [
      "--------------- Epoch 76 ---------------\n"
     ]
    },
    {
     "name": "stderr",
     "output_type": "stream",
     "text": [
      "100%|██████████| 40/40 [00:07<00:00,  5.30it/s]\n",
      "  2%|▎         | 1/40 [00:00<00:06,  5.65it/s]"
     ]
    },
    {
     "name": "stdout",
     "output_type": "stream",
     "text": [
      "--------------- Epoch 77 ---------------\n"
     ]
    },
    {
     "name": "stderr",
     "output_type": "stream",
     "text": [
      "100%|██████████| 40/40 [00:08<00:00,  4.72it/s]\n",
      "  2%|▎         | 1/40 [00:00<00:05,  6.69it/s]"
     ]
    },
    {
     "name": "stdout",
     "output_type": "stream",
     "text": [
      "--------------- Epoch 78 ---------------\n"
     ]
    },
    {
     "name": "stderr",
     "output_type": "stream",
     "text": [
      "100%|██████████| 40/40 [00:07<00:00,  5.33it/s]\n",
      "  2%|▎         | 1/40 [00:00<00:07,  5.42it/s]"
     ]
    },
    {
     "name": "stdout",
     "output_type": "stream",
     "text": [
      "--------------- Epoch 79 ---------------\n"
     ]
    },
    {
     "name": "stderr",
     "output_type": "stream",
     "text": [
      "100%|██████████| 40/40 [00:07<00:00,  5.46it/s]\n",
      "  2%|▎         | 1/40 [00:00<00:06,  6.00it/s]"
     ]
    },
    {
     "name": "stdout",
     "output_type": "stream",
     "text": [
      "--------------- Epoch 80 ---------------\n"
     ]
    },
    {
     "name": "stderr",
     "output_type": "stream",
     "text": [
      "100%|██████████| 40/40 [00:07<00:00,  5.31it/s]\n",
      "  0%|          | 0/40 [00:00<?, ?it/s]"
     ]
    },
    {
     "name": "stdout",
     "output_type": "stream",
     "text": [
      "[[1.         2.34158687]\n",
      " [1.         1.04811306]]\n",
      "[[0.99999958 1.29286181]\n",
      " [1.         0.57848867]]\n",
      "[[ 0.99999976 -0.6290087 ]\n",
      " [ 1.         -1.31049466]]\n",
      "[[ 0.9999994   0.58989164]\n",
      " [ 1.         -1.23716115]]\n",
      "[[ 0.99999887  0.70492285]\n",
      " [ 1.         -0.54655589]]\n",
      "[[ 1.         -1.06973331]\n",
      " [ 1.         -1.07513401]]\n",
      "[[ 1.         -0.12930065]\n",
      " [ 1.         -2.3286584 ]]\n",
      "[[0.99999952 1.49901927]\n",
      " [1.         0.00822144]]\n",
      "[[ 0.99999881 -0.50776617]\n",
      " [ 1.         -0.02377381]]\n",
      "[[ 0.99999893  0.14971691]\n",
      " [ 1.         -0.77315363]]\n",
      "[[ 0.99999982  1.9320844 ]\n",
      " [ 1.         -0.55532606]]\n",
      "[[ 0.99999863  0.00786406]\n",
      " [ 1.         -0.29905933]]\n",
      "[[ 1.         -1.80788226]\n",
      " [ 1.         -0.00884087]]\n",
      "[[0.99999923 1.15034339]\n",
      " [1.         0.16423255]]\n",
      "[[ 0.99999952 -1.15471297]\n",
      " [ 1.          0.14839437]]\n",
      "[[ 0.9999997  -1.40278878]\n",
      " [ 1.          0.18216905]]\n",
      "[[ 0.99999964  0.32002475]\n",
      " [ 1.         -1.69075038]]\n",
      "[[ 1.         -1.48643602]\n",
      " [ 1.         -1.32778299]]\n",
      "[[ 1.         -2.89166389]\n",
      " [ 1.         -0.53434923]]\n",
      "[[ 0.99999905 -0.5091983 ]\n",
      " [ 1.         -0.37407452]]\n",
      "[[ 0.99999928 -0.315024  ]\n",
      " [ 1.         -0.86145309]]\n",
      "[[ 0.99999881  0.71681604]\n",
      " [ 1.         -0.54515968]]\n",
      "[[ 1.          1.97844559]\n",
      " [ 1.         -0.35515072]]\n",
      "[[0.99999934 0.13996791]\n",
      " [1.         1.05120669]]\n",
      "[[ 0.99999887 -0.46004028]\n",
      " [ 1.         -0.0447574 ]]\n",
      "[[0.99999958 0.81915894]\n",
      " [1.         1.12875371]]\n",
      "[[0.99999839 0.34506814]\n",
      " [1.         0.06304537]]\n",
      "[[ 0.99999893  0.90030366]\n",
      " [ 1.         -0.56408958]]\n",
      "[[ 0.99999887 -0.13943392]\n",
      " [ 1.         -0.61841842]]\n",
      "[[ 1.         -2.66834934]\n",
      " [ 1.          0.68767686]]\n",
      "[[ 1.          2.10919009]\n",
      " [ 1.         -0.67417247]]\n",
      "[[ 0.99999887  0.80226162]\n",
      " [ 1.         -0.44874957]]\n",
      "[[ 0.99999934 -0.58504087]\n",
      " [ 1.         -0.80322174]]\n",
      "[[1.         2.26261902]\n",
      " [1.         1.72280284]]\n",
      "[[ 0.99999869  0.0305842 ]\n",
      " [ 1.         -0.64552947]]\n",
      "[[ 0.99999964 -1.18553186]\n",
      " [ 1.          0.6130866 ]]\n",
      "[[ 0.99999851  0.18057935]\n",
      " [ 1.         -0.32059607]]\n",
      "[[ 0.99999911 -0.88010978]\n",
      " [ 1.         -0.07703072]]\n",
      "[[ 0.99999851  0.44498566]\n",
      " [ 1.         -0.28151096]]\n",
      "[[ 1.          0.34104088]\n",
      " [ 1.         -2.20797573]]\n",
      "[[ 0.99999934 -0.81571414]\n",
      " [ 1.         -0.59774238]]\n",
      "[[ 0.9999994   1.30703743]\n",
      " [ 1.         -0.04267314]]\n",
      "[[ 0.9999997  -1.1246466 ]\n",
      " [ 1.          1.02075264]]\n",
      "[[ 0.9999994  -0.73993003]\n",
      " [ 1.          0.79694238]]\n",
      "[[1.         1.8061768 ]\n",
      " [1.         0.24984744]]\n",
      "[[ 1.          0.00994975]\n",
      " [ 1.         -2.55280367]]\n",
      "[[ 1.         -2.59946048]\n",
      " [ 1.          0.22654583]]\n",
      "[[ 0.99999952  1.41129518]\n",
      " [ 1.         -0.06293107]]\n",
      "[[ 0.99999875 -0.31276414]\n",
      " [ 1.          0.0873035 ]]\n",
      "[[ 0.99999964  0.59772162]\n",
      " [ 1.         -1.5059603 ]]\n",
      "--------------- Epoch 81 ---------------\n"
     ]
    },
    {
     "name": "stderr",
     "output_type": "stream",
     "text": [
      "100%|██████████| 40/40 [00:08<00:00,  4.98it/s]\n",
      "  2%|▎         | 1/40 [00:00<00:05,  6.64it/s]"
     ]
    },
    {
     "name": "stdout",
     "output_type": "stream",
     "text": [
      "--------------- Epoch 82 ---------------\n"
     ]
    },
    {
     "name": "stderr",
     "output_type": "stream",
     "text": [
      "100%|██████████| 40/40 [00:07<00:00,  5.57it/s]\n",
      "  2%|▎         | 1/40 [00:00<00:06,  5.80it/s]"
     ]
    },
    {
     "name": "stdout",
     "output_type": "stream",
     "text": [
      "--------------- Epoch 83 ---------------\n"
     ]
    },
    {
     "name": "stderr",
     "output_type": "stream",
     "text": [
      "100%|██████████| 40/40 [00:07<00:00,  5.18it/s]\n",
      "  2%|▎         | 1/40 [00:00<00:06,  5.71it/s]"
     ]
    },
    {
     "name": "stdout",
     "output_type": "stream",
     "text": [
      "--------------- Epoch 84 ---------------\n"
     ]
    },
    {
     "name": "stderr",
     "output_type": "stream",
     "text": [
      "100%|██████████| 40/40 [00:08<00:00,  4.74it/s]\n",
      "  2%|▎         | 1/40 [00:00<00:07,  5.38it/s]"
     ]
    },
    {
     "name": "stdout",
     "output_type": "stream",
     "text": [
      "--------------- Epoch 85 ---------------\n"
     ]
    },
    {
     "name": "stderr",
     "output_type": "stream",
     "text": [
      "100%|██████████| 40/40 [00:07<00:00,  5.22it/s]\n",
      "  2%|▎         | 1/40 [00:00<00:07,  5.46it/s]"
     ]
    },
    {
     "name": "stdout",
     "output_type": "stream",
     "text": [
      "--------------- Epoch 86 ---------------\n"
     ]
    },
    {
     "name": "stderr",
     "output_type": "stream",
     "text": [
      "100%|██████████| 40/40 [00:07<00:00,  5.68it/s]\n",
      "  2%|▎         | 1/40 [00:00<00:06,  6.14it/s]"
     ]
    },
    {
     "name": "stdout",
     "output_type": "stream",
     "text": [
      "--------------- Epoch 87 ---------------\n"
     ]
    },
    {
     "name": "stderr",
     "output_type": "stream",
     "text": [
      "100%|██████████| 40/40 [00:07<00:00,  5.29it/s]\n",
      "  0%|          | 0/40 [00:00<?, ?it/s]"
     ]
    },
    {
     "name": "stdout",
     "output_type": "stream",
     "text": [
      "--------------- Epoch 88 ---------------\n"
     ]
    },
    {
     "name": "stderr",
     "output_type": "stream",
     "text": [
      "100%|██████████| 40/40 [00:07<00:00,  5.43it/s]\n",
      "  0%|          | 0/40 [00:00<?, ?it/s]"
     ]
    },
    {
     "name": "stdout",
     "output_type": "stream",
     "text": [
      "--------------- Epoch 89 ---------------\n"
     ]
    },
    {
     "name": "stderr",
     "output_type": "stream",
     "text": [
      "100%|██████████| 40/40 [00:08<00:00,  4.84it/s]\n",
      "  2%|▎         | 1/40 [00:00<00:07,  5.24it/s]"
     ]
    },
    {
     "name": "stdout",
     "output_type": "stream",
     "text": [
      "--------------- Epoch 90 ---------------\n"
     ]
    },
    {
     "name": "stderr",
     "output_type": "stream",
     "text": [
      "100%|██████████| 40/40 [00:08<00:00,  4.65it/s]\n",
      "  2%|▎         | 1/40 [00:00<00:06,  6.32it/s]"
     ]
    },
    {
     "name": "stdout",
     "output_type": "stream",
     "text": [
      "--------------- Epoch 91 ---------------\n"
     ]
    },
    {
     "name": "stderr",
     "output_type": "stream",
     "text": [
      "100%|██████████| 40/40 [00:08<00:00,  4.85it/s]\n",
      "  0%|          | 0/40 [00:00<?, ?it/s]"
     ]
    },
    {
     "name": "stdout",
     "output_type": "stream",
     "text": [
      "--------------- Epoch 92 ---------------\n"
     ]
    },
    {
     "name": "stderr",
     "output_type": "stream",
     "text": [
      "100%|██████████| 40/40 [00:07<00:00,  5.15it/s]\n",
      "  2%|▎         | 1/40 [00:00<00:06,  5.74it/s]"
     ]
    },
    {
     "name": "stdout",
     "output_type": "stream",
     "text": [
      "--------------- Epoch 93 ---------------\n"
     ]
    },
    {
     "name": "stderr",
     "output_type": "stream",
     "text": [
      "100%|██████████| 40/40 [00:07<00:00,  5.71it/s]\n",
      "  0%|          | 0/40 [00:00<?, ?it/s]"
     ]
    },
    {
     "name": "stdout",
     "output_type": "stream",
     "text": [
      "--------------- Epoch 94 ---------------\n"
     ]
    },
    {
     "name": "stderr",
     "output_type": "stream",
     "text": [
      "100%|██████████| 40/40 [00:07<00:00,  5.18it/s]\n",
      "  0%|          | 0/40 [00:00<?, ?it/s]"
     ]
    },
    {
     "name": "stdout",
     "output_type": "stream",
     "text": [
      "--------------- Epoch 95 ---------------\n"
     ]
    },
    {
     "name": "stderr",
     "output_type": "stream",
     "text": [
      "100%|██████████| 40/40 [00:07<00:00,  5.63it/s]\n",
      "  0%|          | 0/40 [00:00<?, ?it/s]"
     ]
    },
    {
     "name": "stdout",
     "output_type": "stream",
     "text": [
      "--------------- Epoch 96 ---------------\n"
     ]
    },
    {
     "name": "stderr",
     "output_type": "stream",
     "text": [
      "100%|██████████| 40/40 [00:07<00:00,  5.01it/s]\n",
      "  0%|          | 0/40 [00:00<?, ?it/s]"
     ]
    },
    {
     "name": "stdout",
     "output_type": "stream",
     "text": [
      "--------------- Epoch 97 ---------------\n"
     ]
    },
    {
     "name": "stderr",
     "output_type": "stream",
     "text": [
      "100%|██████████| 40/40 [00:07<00:00,  5.25it/s]\n",
      "  0%|          | 0/40 [00:00<?, ?it/s]"
     ]
    },
    {
     "name": "stdout",
     "output_type": "stream",
     "text": [
      "--------------- Epoch 98 ---------------\n"
     ]
    },
    {
     "name": "stderr",
     "output_type": "stream",
     "text": [
      "100%|██████████| 40/40 [00:07<00:00,  5.31it/s]\n",
      "  2%|▎         | 1/40 [00:00<00:06,  6.16it/s]"
     ]
    },
    {
     "name": "stdout",
     "output_type": "stream",
     "text": [
      "--------------- Epoch 99 ---------------\n"
     ]
    },
    {
     "name": "stderr",
     "output_type": "stream",
     "text": [
      "100%|██████████| 40/40 [00:07<00:00,  5.23it/s]\n",
      "  2%|▎         | 1/40 [00:00<00:06,  5.60it/s]"
     ]
    },
    {
     "name": "stdout",
     "output_type": "stream",
     "text": [
      "--------------- Epoch 100 ---------------\n"
     ]
    },
    {
     "name": "stderr",
     "output_type": "stream",
     "text": [
      "100%|██████████| 40/40 [00:07<00:00,  5.19it/s]\n",
      "  0%|          | 0/40 [00:00<?, ?it/s]"
     ]
    },
    {
     "name": "stdout",
     "output_type": "stream",
     "text": [
      "[[ 1.          1.02251365]\n",
      " [ 1.         -2.61715033]]\n",
      "[[ 1.         -0.15259089]\n",
      " [ 1.          1.9296266 ]]\n",
      "[[ 1.         -2.90545294]\n",
      " [ 1.         -0.13905948]]\n",
      "[[ 0.99999952  0.74935842]\n",
      " [ 1.         -0.1980345 ]]\n",
      "[[0.99999952 0.67001395]\n",
      " [1.         0.27922771]]\n",
      "[[ 0.99999946  0.26814861]\n",
      " [ 1.         -0.51560084]]\n",
      "[[0.99999934 0.17082084]\n",
      " [1.         0.22805214]]\n",
      "[[ 0.99999964 -0.50852096]\n",
      " [ 1.          0.46843471]]\n",
      "[[1.         2.89885701]\n",
      " [1.         1.1446023 ]]\n",
      "[[ 0.9999997  -0.60031276]\n",
      " [ 1.          0.5100817 ]]\n",
      "[[ 1.         -0.42969393]\n",
      " [ 1.          1.34428127]]\n",
      "[[ 0.99999952 -0.19082566]\n",
      " [ 1.         -0.56638661]]\n",
      "[[ 0.99999964  0.79965069]\n",
      " [ 1.         -0.63089959]]\n",
      "[[ 0.99999952 -0.14698946]\n",
      " [ 1.         -0.19656562]]\n",
      "[[ 1.          0.26506776]\n",
      " [ 1.         -1.55283737]]\n",
      "[[ 0.99999964 -0.52854333]\n",
      " [ 1.          0.47565238]]\n",
      "[[0.99999964 0.23027725]\n",
      " [1.         0.62259564]]\n",
      "[[ 0.99999964 -0.85462506]\n",
      " [ 1.         -0.11944532]]\n",
      "[[ 0.99999976 -0.52944982]\n",
      " [ 1.          0.92281148]]\n",
      "[[1.         0.790356  ]\n",
      " [1.         1.21371471]]\n",
      "[[ 1.         -1.43652638]\n",
      " [ 1.          0.49910979]]\n",
      "[[ 0.9999994  -0.03452374]\n",
      " [ 1.         -0.26838642]]\n",
      "[[0.9999994  0.212904  ]\n",
      " [1.         0.11235785]]\n",
      "[[ 0.99999964 -0.19866819]\n",
      " [ 1.          0.79961195]]\n",
      "[[ 1.         -0.76527416]\n",
      " [ 1.          1.28883581]]\n",
      "[[ 0.9999997  -0.3771907 ]\n",
      " [ 1.          0.48864791]]\n",
      "[[ 0.9999997   0.99159525]\n",
      " [ 1.         -0.42887907]]\n",
      "[[ 1.         -1.05823715]\n",
      " [ 1.          1.05506098]]\n",
      "[[ 0.99999934  0.06909735]\n",
      " [ 1.         -0.2916154 ]]\n",
      "[[1.         1.15277757]\n",
      " [1.         0.96165574]]\n",
      "[[ 0.9999997  -0.0835119 ]\n",
      " [ 1.          0.68047019]]\n",
      "[[ 1.          1.41094739]\n",
      " [ 1.         -1.04283033]]\n",
      "[[ 1.         -1.07016878]\n",
      " [ 1.         -0.28697617]]\n",
      "[[0.9999997  0.23215627]\n",
      " [1.         0.87310169]]\n",
      "[[ 0.99999952 -0.44943412]\n",
      " [ 1.          0.07451902]]\n",
      "[[1.         0.00464318]\n",
      " [1.         1.0758424 ]]\n",
      "[[ 1.          1.35090211]\n",
      " [ 1.         -0.14790755]]\n",
      "[[1.         1.20471636]\n",
      " [1.         0.25872003]]\n",
      "[[1.         0.75740036]\n",
      " [1.         2.40719197]]\n",
      "[[1.         0.45734414]\n",
      " [1.         1.17043216]]\n",
      "[[ 0.99999952  0.29642175]\n",
      " [ 1.         -0.78412001]]\n",
      "[[ 0.9999994   0.14555408]\n",
      " [ 1.         -0.39490498]]\n",
      "[[ 1.          0.7593477 ]\n",
      " [ 1.         -1.07768117]]\n",
      "[[ 0.99999946  0.34507497]\n",
      " [ 1.         -0.55806545]]\n",
      "[[ 1.         -0.82663882]\n",
      " [ 1.          0.92941501]]\n",
      "[[ 1.         0.4166418]\n",
      " [ 1.        -1.4674995]]\n",
      "[[ 0.99999958  0.38166283]\n",
      " [ 1.         -1.01629143]]\n",
      "[[ 0.9999997   0.41558949]\n",
      " [ 1.         -1.04320551]]\n",
      "[[ 0.99999958 -0.36494   ]\n",
      " [ 1.          0.15776004]]\n",
      "[[ 0.99999952  0.63835179]\n",
      " [ 1.         -0.5541775 ]]\n",
      "--------------- Epoch 101 ---------------\n"
     ]
    },
    {
     "name": "stderr",
     "output_type": "stream",
     "text": [
      "100%|██████████| 40/40 [00:08<00:00,  4.97it/s]\n",
      "  2%|▎         | 1/40 [00:00<00:07,  5.43it/s]"
     ]
    },
    {
     "name": "stdout",
     "output_type": "stream",
     "text": [
      "--------------- Epoch 102 ---------------\n"
     ]
    },
    {
     "name": "stderr",
     "output_type": "stream",
     "text": [
      "100%|██████████| 40/40 [00:07<00:00,  5.19it/s]\n",
      "  0%|          | 0/40 [00:00<?, ?it/s]"
     ]
    },
    {
     "name": "stdout",
     "output_type": "stream",
     "text": [
      "--------------- Epoch 103 ---------------\n"
     ]
    },
    {
     "name": "stderr",
     "output_type": "stream",
     "text": [
      "100%|██████████| 40/40 [00:07<00:00,  5.63it/s]\n",
      "  0%|          | 0/40 [00:00<?, ?it/s]"
     ]
    },
    {
     "name": "stdout",
     "output_type": "stream",
     "text": [
      "--------------- Epoch 104 ---------------\n"
     ]
    },
    {
     "name": "stderr",
     "output_type": "stream",
     "text": [
      "100%|██████████| 40/40 [00:07<00:00,  5.22it/s]\n",
      "  2%|▎         | 1/40 [00:00<00:06,  5.75it/s]"
     ]
    },
    {
     "name": "stdout",
     "output_type": "stream",
     "text": [
      "--------------- Epoch 105 ---------------\n"
     ]
    },
    {
     "name": "stderr",
     "output_type": "stream",
     "text": [
      "100%|██████████| 40/40 [00:07<00:00,  5.62it/s]\n",
      "  2%|▎         | 1/40 [00:00<00:05,  7.36it/s]"
     ]
    },
    {
     "name": "stdout",
     "output_type": "stream",
     "text": [
      "--------------- Epoch 106 ---------------\n"
     ]
    },
    {
     "name": "stderr",
     "output_type": "stream",
     "text": [
      "100%|██████████| 40/40 [00:07<00:00,  5.43it/s]\n",
      "  2%|▎         | 1/40 [00:00<00:06,  5.89it/s]"
     ]
    },
    {
     "name": "stdout",
     "output_type": "stream",
     "text": [
      "--------------- Epoch 107 ---------------\n"
     ]
    },
    {
     "name": "stderr",
     "output_type": "stream",
     "text": [
      "100%|██████████| 40/40 [00:09<00:00,  4.38it/s]\n",
      "  0%|          | 0/40 [00:00<?, ?it/s]"
     ]
    },
    {
     "name": "stdout",
     "output_type": "stream",
     "text": [
      "--------------- Epoch 108 ---------------\n"
     ]
    },
    {
     "name": "stderr",
     "output_type": "stream",
     "text": [
      "100%|██████████| 40/40 [00:08<00:00,  4.84it/s]\n",
      "  2%|▎         | 1/40 [00:00<00:07,  5.21it/s]"
     ]
    },
    {
     "name": "stdout",
     "output_type": "stream",
     "text": [
      "--------------- Epoch 109 ---------------\n"
     ]
    },
    {
     "name": "stderr",
     "output_type": "stream",
     "text": [
      "100%|██████████| 40/40 [00:08<00:00,  4.81it/s]\n",
      "  0%|          | 0/40 [00:00<?, ?it/s]"
     ]
    },
    {
     "name": "stdout",
     "output_type": "stream",
     "text": [
      "--------------- Epoch 110 ---------------\n"
     ]
    },
    {
     "name": "stderr",
     "output_type": "stream",
     "text": [
      "100%|██████████| 40/40 [00:07<00:00,  5.01it/s]\n",
      "  2%|▎         | 1/40 [00:00<00:06,  6.03it/s]"
     ]
    },
    {
     "name": "stdout",
     "output_type": "stream",
     "text": [
      "--------------- Epoch 111 ---------------\n"
     ]
    },
    {
     "name": "stderr",
     "output_type": "stream",
     "text": [
      "100%|██████████| 40/40 [00:07<00:00,  5.62it/s]\n",
      "  0%|          | 0/40 [00:00<?, ?it/s]"
     ]
    },
    {
     "name": "stdout",
     "output_type": "stream",
     "text": [
      "--------------- Epoch 112 ---------------\n"
     ]
    },
    {
     "name": "stderr",
     "output_type": "stream",
     "text": [
      "100%|██████████| 40/40 [00:07<00:00,  5.01it/s]\n",
      "  0%|          | 0/40 [00:00<?, ?it/s]"
     ]
    },
    {
     "name": "stdout",
     "output_type": "stream",
     "text": [
      "--------------- Epoch 113 ---------------\n"
     ]
    },
    {
     "name": "stderr",
     "output_type": "stream",
     "text": [
      "100%|██████████| 40/40 [00:07<00:00,  5.32it/s]\n",
      "  2%|▎         | 1/40 [00:00<00:06,  5.72it/s]"
     ]
    },
    {
     "name": "stdout",
     "output_type": "stream",
     "text": [
      "--------------- Epoch 114 ---------------\n"
     ]
    },
    {
     "name": "stderr",
     "output_type": "stream",
     "text": [
      "100%|██████████| 40/40 [00:07<00:00,  5.55it/s]\n",
      "  2%|▎         | 1/40 [00:00<00:07,  5.44it/s]"
     ]
    },
    {
     "name": "stdout",
     "output_type": "stream",
     "text": [
      "--------------- Epoch 115 ---------------\n"
     ]
    },
    {
     "name": "stderr",
     "output_type": "stream",
     "text": [
      "100%|██████████| 40/40 [00:07<00:00,  5.44it/s]\n",
      "  2%|▎         | 1/40 [00:00<00:07,  5.44it/s]"
     ]
    },
    {
     "name": "stdout",
     "output_type": "stream",
     "text": [
      "--------------- Epoch 116 ---------------\n"
     ]
    },
    {
     "name": "stderr",
     "output_type": "stream",
     "text": [
      "100%|██████████| 40/40 [00:07<00:00,  5.57it/s]\n",
      "  2%|▎         | 1/40 [00:00<00:06,  5.68it/s]"
     ]
    },
    {
     "name": "stdout",
     "output_type": "stream",
     "text": [
      "--------------- Epoch 117 ---------------\n"
     ]
    },
    {
     "name": "stderr",
     "output_type": "stream",
     "text": [
      "100%|██████████| 40/40 [00:07<00:00,  5.19it/s]\n",
      "  2%|▎         | 1/40 [00:00<00:06,  6.14it/s]"
     ]
    },
    {
     "name": "stdout",
     "output_type": "stream",
     "text": [
      "--------------- Epoch 118 ---------------\n"
     ]
    },
    {
     "name": "stderr",
     "output_type": "stream",
     "text": [
      "100%|██████████| 40/40 [00:08<00:00,  4.95it/s]\n",
      "  2%|▎         | 1/40 [00:00<00:05,  6.74it/s]"
     ]
    },
    {
     "name": "stdout",
     "output_type": "stream",
     "text": [
      "--------------- Epoch 119 ---------------\n"
     ]
    },
    {
     "name": "stderr",
     "output_type": "stream",
     "text": [
      "100%|██████████| 40/40 [00:07<00:00,  5.53it/s]\n",
      "  2%|▎         | 1/40 [00:00<00:05,  6.72it/s]"
     ]
    },
    {
     "name": "stdout",
     "output_type": "stream",
     "text": [
      "--------------- Epoch 120 ---------------\n"
     ]
    },
    {
     "name": "stderr",
     "output_type": "stream",
     "text": [
      "100%|██████████| 40/40 [00:06<00:00,  5.83it/s]\n"
     ]
    },
    {
     "name": "stdout",
     "output_type": "stream",
     "text": [
      "[[1.         2.43145898]\n",
      " [1.         0.32935717]]\n",
      "[[ 1.         -1.23041984]\n",
      " [ 1.         -0.43710851]]\n",
      "[[1.         1.02173017]\n",
      " [1.         0.09383627]]\n",
      "[[ 1.         -0.57412408]\n",
      " [ 1.         -0.78588601]]\n",
      "[[ 0.9999997   0.55964004]\n",
      " [ 1.         -0.3530231 ]]\n",
      "[[ 1.         -0.79025397]\n",
      " [ 1.          2.45106487]]\n",
      "[[ 0.99999982  0.46005663]\n",
      " [ 1.         -0.0504939 ]]\n",
      "[[ 0.99999964 -0.08052457]\n",
      " [ 1.         -0.32384174]]\n",
      "[[ 1.         -0.74218654]\n",
      " [ 1.          1.4784668 ]]\n",
      "[[1.         0.6701602 ]\n",
      " [1.         1.84725061]]\n",
      "[[ 1.          0.31025274]\n",
      " [ 1.         -0.86479033]]\n",
      "[[ 1.         -1.05008455]\n",
      " [ 1.         -1.55317905]]\n",
      "[[ 1.          1.26409096]\n",
      " [ 1.         -1.76686889]]\n",
      "[[ 1.         -0.04802503]\n",
      " [ 1.         -0.68749528]]\n",
      "[[0.99999976 0.19966915]\n",
      " [1.         0.08808245]]\n",
      "[[ 0.99999982 -0.34167819]\n",
      " [ 1.          0.28835589]]\n",
      "[[ 1.         -0.70312618]\n",
      " [ 1.         -0.74324357]]\n",
      "[[ 1.          1.26397114]\n",
      " [ 1.         -0.31375121]]\n",
      "[[ 1.          0.21188279]\n",
      " [ 1.         -0.91449508]]\n",
      "[[ 1.         -1.35972898]\n",
      " [ 1.          0.63736861]]\n",
      "[[1.        1.0530422]\n",
      " [1.        0.6901804]]\n",
      "[[ 1.         -1.41157557]\n",
      " [ 1.          1.82861782]]\n",
      "[[ 1.         -1.22635709]\n",
      " [ 1.         -0.29257573]]\n",
      "[[ 1.          1.18827464]\n",
      " [ 1.         -0.68149987]]\n",
      "[[ 1.         -0.62667956]\n",
      " [ 1.          1.0553285 ]]\n",
      "[[1.         0.82131961]\n",
      " [1.         1.5779902 ]]\n",
      "[[ 0.99999982 -0.11919307]\n",
      " [ 1.          0.46802513]]\n",
      "[[1.         1.03065917]\n",
      " [1.         0.03471426]]\n",
      "[[ 1.         -1.57068791]\n",
      " [ 1.         -1.15793475]]\n",
      "[[ 1.          1.50303252]\n",
      " [ 1.         -1.18230816]]\n",
      "[[ 1.          0.61054782]\n",
      " [ 1.         -0.67627404]]\n",
      "[[ 0.99999988  0.61186819]\n",
      " [ 1.         -0.06465099]]\n",
      "[[ 1.         -0.79983055]\n",
      " [ 1.          0.38877434]]\n",
      "[[ 1.         -0.87459247]\n",
      " [ 1.         -0.9805588 ]]\n",
      "[[ 1.         -2.01803891]\n",
      " [ 1.          1.98780844]]\n",
      "[[ 1.          0.22492187]\n",
      " [ 1.         -2.22067321]]\n",
      "[[ 1.         -2.05385278]\n",
      " [ 1.          0.22955376]]\n",
      "[[ 1.         -1.19705625]\n",
      " [ 1.         -0.10931588]]\n",
      "[[0.99999988 0.18253837]\n",
      " [1.         0.32481853]]\n",
      "[[1.         0.33770881]\n",
      " [1.         0.67013331]]\n",
      "[[1.         2.1739973 ]\n",
      " [1.         1.77255358]]\n",
      "[[ 0.99999988  0.79580032]\n",
      " [ 1.         -0.17777446]]\n",
      "[[ 1.         -0.56545267]\n",
      " [ 1.          2.29458064]]\n",
      "[[ 1.         -1.22333873]\n",
      " [ 1.         -0.97493113]]\n",
      "[[ 1.         -1.1408052 ]\n",
      " [ 1.          1.91463894]]\n",
      "[[ 1.         -0.96671685]\n",
      " [ 1.          0.10182112]]\n",
      "[[ 1.          0.01276724]\n",
      " [ 1.         -0.68888236]]\n",
      "[[ 1.        -1.180771 ]\n",
      " [ 1.        -0.0058072]]\n",
      "[[1.         0.69843321]\n",
      " [1.         0.18579956]]\n",
      "[[ 1.         -0.92888201]\n",
      " [ 1.         -0.16240063]]\n"
     ]
    },
    {
     "name": "stderr",
     "output_type": "stream",
     "text": [
      "  2%|▎         | 1/40 [00:00<00:05,  7.57it/s]"
     ]
    },
    {
     "name": "stdout",
     "output_type": "stream",
     "text": [
      "--------------- Epoch 121 ---------------\n"
     ]
    },
    {
     "name": "stderr",
     "output_type": "stream",
     "text": [
      "100%|██████████| 40/40 [00:07<00:00,  5.60it/s]\n",
      "  2%|▎         | 1/40 [00:00<00:06,  5.66it/s]"
     ]
    },
    {
     "name": "stdout",
     "output_type": "stream",
     "text": [
      "--------------- Epoch 122 ---------------\n"
     ]
    },
    {
     "name": "stderr",
     "output_type": "stream",
     "text": [
      "100%|██████████| 40/40 [00:07<00:00,  5.35it/s]\n",
      "  0%|          | 0/40 [00:00<?, ?it/s]"
     ]
    },
    {
     "name": "stdout",
     "output_type": "stream",
     "text": [
      "--------------- Epoch 123 ---------------\n"
     ]
    },
    {
     "name": "stderr",
     "output_type": "stream",
     "text": [
      "100%|██████████| 40/40 [00:07<00:00,  5.18it/s]\n",
      "  2%|▎         | 1/40 [00:00<00:07,  5.50it/s]"
     ]
    },
    {
     "name": "stdout",
     "output_type": "stream",
     "text": [
      "--------------- Epoch 124 ---------------\n"
     ]
    },
    {
     "name": "stderr",
     "output_type": "stream",
     "text": [
      "100%|██████████| 40/40 [00:07<00:00,  5.23it/s]\n",
      "  0%|          | 0/40 [00:00<?, ?it/s]"
     ]
    },
    {
     "name": "stdout",
     "output_type": "stream",
     "text": [
      "--------------- Epoch 125 ---------------\n"
     ]
    },
    {
     "name": "stderr",
     "output_type": "stream",
     "text": [
      "100%|██████████| 40/40 [00:07<00:00,  5.46it/s]\n",
      "  0%|          | 0/40 [00:00<?, ?it/s]"
     ]
    },
    {
     "name": "stdout",
     "output_type": "stream",
     "text": [
      "--------------- Epoch 126 ---------------\n"
     ]
    },
    {
     "name": "stderr",
     "output_type": "stream",
     "text": [
      "100%|██████████| 40/40 [00:07<00:00,  5.40it/s]\n",
      "  2%|▎         | 1/40 [00:00<00:07,  5.36it/s]"
     ]
    },
    {
     "name": "stdout",
     "output_type": "stream",
     "text": [
      "--------------- Epoch 127 ---------------\n"
     ]
    },
    {
     "name": "stderr",
     "output_type": "stream",
     "text": [
      "100%|██████████| 40/40 [00:07<00:00,  5.42it/s]\n",
      "  2%|▎         | 1/40 [00:00<00:06,  5.86it/s]"
     ]
    },
    {
     "name": "stdout",
     "output_type": "stream",
     "text": [
      "--------------- Epoch 128 ---------------\n"
     ]
    },
    {
     "name": "stderr",
     "output_type": "stream",
     "text": [
      "100%|██████████| 40/40 [00:07<00:00,  5.03it/s]\n",
      "  0%|          | 0/40 [00:00<?, ?it/s]"
     ]
    },
    {
     "name": "stdout",
     "output_type": "stream",
     "text": [
      "--------------- Epoch 129 ---------------\n"
     ]
    },
    {
     "name": "stderr",
     "output_type": "stream",
     "text": [
      "100%|██████████| 40/40 [00:07<00:00,  5.58it/s]\n",
      "  0%|          | 0/40 [00:00<?, ?it/s]"
     ]
    },
    {
     "name": "stdout",
     "output_type": "stream",
     "text": [
      "--------------- Epoch 130 ---------------\n"
     ]
    },
    {
     "name": "stderr",
     "output_type": "stream",
     "text": [
      "100%|██████████| 40/40 [00:07<00:00,  5.33it/s]\n",
      "  0%|          | 0/40 [00:00<?, ?it/s]"
     ]
    },
    {
     "name": "stdout",
     "output_type": "stream",
     "text": [
      "--------------- Epoch 131 ---------------\n"
     ]
    },
    {
     "name": "stderr",
     "output_type": "stream",
     "text": [
      "100%|██████████| 40/40 [00:07<00:00,  5.11it/s]\n",
      "  0%|          | 0/40 [00:00<?, ?it/s]"
     ]
    },
    {
     "name": "stdout",
     "output_type": "stream",
     "text": [
      "--------------- Epoch 132 ---------------\n"
     ]
    },
    {
     "name": "stderr",
     "output_type": "stream",
     "text": [
      "100%|██████████| 40/40 [00:07<00:00,  5.03it/s]\n",
      "  0%|          | 0/40 [00:00<?, ?it/s]"
     ]
    },
    {
     "name": "stdout",
     "output_type": "stream",
     "text": [
      "--------------- Epoch 133 ---------------\n"
     ]
    },
    {
     "name": "stderr",
     "output_type": "stream",
     "text": [
      "100%|██████████| 40/40 [00:07<00:00,  5.65it/s]\n",
      "  2%|▎         | 1/40 [00:00<00:07,  5.21it/s]"
     ]
    },
    {
     "name": "stdout",
     "output_type": "stream",
     "text": [
      "--------------- Epoch 134 ---------------\n"
     ]
    },
    {
     "name": "stderr",
     "output_type": "stream",
     "text": [
      "100%|██████████| 40/40 [00:07<00:00,  5.40it/s]\n",
      "  2%|▎         | 1/40 [00:00<00:07,  5.45it/s]"
     ]
    },
    {
     "name": "stdout",
     "output_type": "stream",
     "text": [
      "--------------- Epoch 135 ---------------\n"
     ]
    },
    {
     "name": "stderr",
     "output_type": "stream",
     "text": [
      "100%|██████████| 40/40 [00:07<00:00,  5.32it/s]\n",
      "  2%|▎         | 1/40 [00:00<00:07,  5.30it/s]"
     ]
    },
    {
     "name": "stdout",
     "output_type": "stream",
     "text": [
      "--------------- Epoch 136 ---------------\n"
     ]
    },
    {
     "name": "stderr",
     "output_type": "stream",
     "text": [
      "100%|██████████| 40/40 [00:07<00:00,  5.40it/s]\n",
      "  2%|▎         | 1/40 [00:00<00:06,  6.17it/s]"
     ]
    },
    {
     "name": "stdout",
     "output_type": "stream",
     "text": [
      "--------------- Epoch 137 ---------------\n"
     ]
    },
    {
     "name": "stderr",
     "output_type": "stream",
     "text": [
      "100%|██████████| 40/40 [00:07<00:00,  5.40it/s]\n",
      "  0%|          | 0/40 [00:00<?, ?it/s]"
     ]
    },
    {
     "name": "stdout",
     "output_type": "stream",
     "text": [
      "--------------- Epoch 138 ---------------\n"
     ]
    },
    {
     "name": "stderr",
     "output_type": "stream",
     "text": [
      "100%|██████████| 40/40 [00:09<00:00,  4.37it/s]\n",
      "  0%|          | 0/40 [00:00<?, ?it/s]"
     ]
    },
    {
     "name": "stdout",
     "output_type": "stream",
     "text": [
      "--------------- Epoch 139 ---------------\n"
     ]
    },
    {
     "name": "stderr",
     "output_type": "stream",
     "text": [
      "100%|██████████| 40/40 [00:08<00:00,  4.84it/s]\n",
      "  2%|▎         | 1/40 [00:00<00:07,  5.45it/s]"
     ]
    },
    {
     "name": "stdout",
     "output_type": "stream",
     "text": [
      "--------------- Epoch 140 ---------------\n"
     ]
    },
    {
     "name": "stderr",
     "output_type": "stream",
     "text": [
      "100%|██████████| 40/40 [00:08<00:00,  4.74it/s]\n"
     ]
    },
    {
     "name": "stdout",
     "output_type": "stream",
     "text": [
      "[[ 1.          0.92111208]\n",
      " [ 1.         -0.20841128]]\n",
      "[[1.         0.4525078 ]\n",
      " [1.         0.56574805]]\n",
      "[[ 1.         -0.82715627]\n",
      " [ 1.          1.79385679]]\n",
      "[[1.         0.08048596]\n",
      " [1.         1.54625583]]\n",
      "[[1.         1.02068675]\n",
      " [1.         1.01040275]]\n",
      "[[ 1.         -0.03347314]\n",
      " [ 1.          0.76970243]]\n",
      "[[ 1.          1.22290545]\n",
      " [ 1.         -0.77926129]]\n",
      "[[ 1.         -0.71704907]\n",
      " [ 1.          1.04065375]]\n",
      "[[1.         0.33932206]\n",
      " [1.         0.68848106]]\n",
      "[[ 1.          0.37099588]\n",
      " [ 1.         -0.67759826]]\n",
      "[[ 1.          0.19481657]\n",
      " [ 1.         -0.41903277]]\n",
      "[[ 1.         -2.29976773]\n",
      " [ 1.          0.29540366]]\n",
      "[[ 1.         -1.4241573 ]\n",
      " [ 1.          0.09530584]]\n",
      "[[1.         1.26706507]\n",
      " [1.         0.69214805]]\n",
      "[[ 1.         -2.01143882]\n",
      " [ 1.          0.8459778 ]]\n",
      "[[ 1.         -0.44507749]\n",
      " [ 1.         -1.98952193]]\n",
      "[[ 1.         -1.94024683]\n",
      " [ 1.         -0.00829952]]\n",
      "[[ 1.         -0.3830328 ]\n",
      " [ 1.          0.09038293]]\n",
      "[[ 1.         -0.79908547]\n",
      " [ 1.         -0.69044749]]\n",
      "[[ 1.          0.05263252]\n",
      " [ 1.         -1.65416133]]\n",
      "[[ 1.         -0.67535169]\n",
      " [ 1.         -2.36734179]]\n",
      "[[1.         0.69926634]\n",
      " [1.         0.1057728 ]]\n",
      "[[ 1.          1.32111347]\n",
      " [ 1.         -1.61829684]]\n",
      "[[1.         0.89781145]\n",
      " [1.         0.8421298 ]]\n",
      "[[1.         0.42029677]\n",
      " [1.         0.78240929]]\n",
      "[[ 1.         -1.67137307]\n",
      " [ 1.          0.14130072]]\n",
      "[[ 1.         -0.57194896]\n",
      " [ 1.         -1.87095577]]\n",
      "[[ 1.         -0.43434948]\n",
      " [ 1.          1.22907427]]\n",
      "[[1.         0.37782611]\n",
      " [1.         0.20905867]]\n",
      "[[ 1.         -1.82016554]\n",
      " [ 1.         -0.10799697]]\n",
      "[[1.         0.0215464 ]\n",
      " [1.         1.95279507]]\n",
      "[[1.         1.86699056]\n",
      " [1.         1.73840244]]\n",
      "[[ 1.          0.14122637]\n",
      " [ 1.         -1.37530322]]\n",
      "[[ 1.         -0.01419341]\n",
      " [ 1.         -2.38465924]]\n",
      "[[1.         0.09607706]\n",
      " [1.         0.10321891]]\n",
      "[[ 1.          1.46322005]\n",
      " [ 1.         -1.6005742 ]]\n",
      "[[ 1.         -1.4682669 ]\n",
      " [ 1.         -2.56513861]]\n",
      "[[ 1.          1.109539  ]\n",
      " [ 1.         -1.17323693]]\n",
      "[[ 1.          0.23658349]\n",
      " [ 1.         -0.6697173 ]]\n",
      "[[ 1.         -0.48716371]\n",
      " [ 1.          1.09019791]]\n",
      "[[ 1.          0.08489339]\n",
      " [ 1.         -0.05655621]]\n",
      "[[1.         0.33134349]\n",
      " [1.         0.56195225]]\n",
      "[[ 1.         -0.54334564]\n",
      " [ 1.          0.49814339]]\n",
      "[[1.         1.92121696]\n",
      " [1.         0.46860583]]\n",
      "[[ 1.         -0.26074727]\n",
      " [ 1.         -1.12814664]]\n",
      "[[1.         0.22533517]\n",
      " [1.         1.77338459]]\n",
      "[[ 0.99999988  0.14623795]\n",
      " [ 1.         -0.12972381]]\n",
      "[[ 1.         -0.94692659]\n",
      " [ 1.          1.36968804]]\n",
      "[[ 1.          0.0296041 ]\n",
      " [ 1.         -1.09251126]]\n",
      "[[1.         0.00962234]\n",
      " [1.         0.29571324]]\n"
     ]
    },
    {
     "name": "stderr",
     "output_type": "stream",
     "text": [
      "  2%|▎         | 1/40 [00:00<00:04,  8.26it/s]"
     ]
    },
    {
     "name": "stdout",
     "output_type": "stream",
     "text": [
      "--------------- Epoch 141 ---------------\n"
     ]
    },
    {
     "name": "stderr",
     "output_type": "stream",
     "text": [
      "100%|██████████| 40/40 [00:07<00:00,  5.49it/s]\n",
      "  2%|▎         | 1/40 [00:00<00:06,  6.20it/s]"
     ]
    },
    {
     "name": "stdout",
     "output_type": "stream",
     "text": [
      "--------------- Epoch 142 ---------------\n"
     ]
    },
    {
     "name": "stderr",
     "output_type": "stream",
     "text": [
      "100%|██████████| 40/40 [00:07<00:00,  5.31it/s]\n",
      "  0%|          | 0/40 [00:00<?, ?it/s]"
     ]
    },
    {
     "name": "stdout",
     "output_type": "stream",
     "text": [
      "--------------- Epoch 143 ---------------\n"
     ]
    },
    {
     "name": "stderr",
     "output_type": "stream",
     "text": [
      "100%|██████████| 40/40 [00:07<00:00,  5.26it/s]\n",
      "  2%|▎         | 1/40 [00:00<00:06,  5.99it/s]"
     ]
    },
    {
     "name": "stdout",
     "output_type": "stream",
     "text": [
      "--------------- Epoch 144 ---------------\n"
     ]
    },
    {
     "name": "stderr",
     "output_type": "stream",
     "text": [
      "100%|██████████| 40/40 [00:07<00:00,  5.05it/s]\n",
      "  2%|▎         | 1/40 [00:00<00:07,  5.28it/s]"
     ]
    },
    {
     "name": "stdout",
     "output_type": "stream",
     "text": [
      "--------------- Epoch 145 ---------------\n"
     ]
    },
    {
     "name": "stderr",
     "output_type": "stream",
     "text": [
      "100%|██████████| 40/40 [00:07<00:00,  5.58it/s]\n",
      "  0%|          | 0/40 [00:00<?, ?it/s]"
     ]
    },
    {
     "name": "stdout",
     "output_type": "stream",
     "text": [
      "--------------- Epoch 146 ---------------\n"
     ]
    },
    {
     "name": "stderr",
     "output_type": "stream",
     "text": [
      "100%|██████████| 40/40 [00:07<00:00,  5.13it/s]\n",
      "  0%|          | 0/40 [00:00<?, ?it/s]"
     ]
    },
    {
     "name": "stdout",
     "output_type": "stream",
     "text": [
      "--------------- Epoch 147 ---------------\n"
     ]
    },
    {
     "name": "stderr",
     "output_type": "stream",
     "text": [
      "100%|██████████| 40/40 [00:07<00:00,  5.38it/s]\n",
      "  0%|          | 0/40 [00:00<?, ?it/s]"
     ]
    },
    {
     "name": "stdout",
     "output_type": "stream",
     "text": [
      "--------------- Epoch 148 ---------------\n"
     ]
    },
    {
     "name": "stderr",
     "output_type": "stream",
     "text": [
      "100%|██████████| 40/40 [00:08<00:00,  4.90it/s]\n",
      "  2%|▎         | 1/40 [00:00<00:07,  5.16it/s]"
     ]
    },
    {
     "name": "stdout",
     "output_type": "stream",
     "text": [
      "--------------- Epoch 149 ---------------\n"
     ]
    },
    {
     "name": "stderr",
     "output_type": "stream",
     "text": [
      "100%|██████████| 40/40 [00:06<00:00,  5.96it/s]\n",
      "  0%|          | 0/40 [00:00<?, ?it/s]"
     ]
    },
    {
     "name": "stdout",
     "output_type": "stream",
     "text": [
      "--------------- Epoch 150 ---------------\n"
     ]
    },
    {
     "name": "stderr",
     "output_type": "stream",
     "text": [
      "100%|██████████| 40/40 [00:07<00:00,  5.34it/s]\n",
      "  0%|          | 0/40 [00:00<?, ?it/s]"
     ]
    },
    {
     "name": "stdout",
     "output_type": "stream",
     "text": [
      "--------------- Epoch 151 ---------------\n"
     ]
    },
    {
     "name": "stderr",
     "output_type": "stream",
     "text": [
      "100%|██████████| 40/40 [00:07<00:00,  5.58it/s]\n",
      "  2%|▎         | 1/40 [00:00<00:06,  5.70it/s]"
     ]
    },
    {
     "name": "stdout",
     "output_type": "stream",
     "text": [
      "--------------- Epoch 152 ---------------\n"
     ]
    },
    {
     "name": "stderr",
     "output_type": "stream",
     "text": [
      "100%|██████████| 40/40 [00:07<00:00,  5.40it/s]\n",
      "  2%|▎         | 1/40 [00:00<00:07,  5.31it/s]"
     ]
    },
    {
     "name": "stdout",
     "output_type": "stream",
     "text": [
      "--------------- Epoch 153 ---------------\n"
     ]
    },
    {
     "name": "stderr",
     "output_type": "stream",
     "text": [
      "100%|██████████| 40/40 [00:08<00:00,  4.96it/s]\n",
      "  0%|          | 0/40 [00:00<?, ?it/s]"
     ]
    },
    {
     "name": "stdout",
     "output_type": "stream",
     "text": [
      "--------------- Epoch 154 ---------------\n"
     ]
    },
    {
     "name": "stderr",
     "output_type": "stream",
     "text": [
      "100%|██████████| 40/40 [00:08<00:00,  4.64it/s]\n",
      "  0%|          | 0/40 [00:00<?, ?it/s]"
     ]
    },
    {
     "name": "stdout",
     "output_type": "stream",
     "text": [
      "--------------- Epoch 155 ---------------\n"
     ]
    },
    {
     "name": "stderr",
     "output_type": "stream",
     "text": [
      "100%|██████████| 40/40 [00:07<00:00,  5.68it/s]\n",
      "  0%|          | 0/40 [00:00<?, ?it/s]"
     ]
    },
    {
     "name": "stdout",
     "output_type": "stream",
     "text": [
      "--------------- Epoch 156 ---------------\n"
     ]
    },
    {
     "name": "stderr",
     "output_type": "stream",
     "text": [
      "100%|██████████| 40/40 [00:07<00:00,  5.51it/s]\n",
      "  2%|▎         | 1/40 [00:00<00:07,  5.28it/s]"
     ]
    },
    {
     "name": "stdout",
     "output_type": "stream",
     "text": [
      "--------------- Epoch 157 ---------------\n"
     ]
    },
    {
     "name": "stderr",
     "output_type": "stream",
     "text": [
      "100%|██████████| 40/40 [00:07<00:00,  5.10it/s]\n",
      "  0%|          | 0/40 [00:00<?, ?it/s]"
     ]
    },
    {
     "name": "stdout",
     "output_type": "stream",
     "text": [
      "--------------- Epoch 158 ---------------\n"
     ]
    },
    {
     "name": "stderr",
     "output_type": "stream",
     "text": [
      "100%|██████████| 40/40 [00:08<00:00,  4.89it/s]\n",
      "  0%|          | 0/40 [00:00<?, ?it/s]"
     ]
    },
    {
     "name": "stdout",
     "output_type": "stream",
     "text": [
      "--------------- Epoch 159 ---------------\n"
     ]
    },
    {
     "name": "stderr",
     "output_type": "stream",
     "text": [
      "100%|██████████| 40/40 [00:07<00:00,  5.11it/s]\n",
      "  2%|▎         | 1/40 [00:00<00:07,  5.33it/s]"
     ]
    },
    {
     "name": "stdout",
     "output_type": "stream",
     "text": [
      "--------------- Epoch 160 ---------------\n"
     ]
    },
    {
     "name": "stderr",
     "output_type": "stream",
     "text": [
      "100%|██████████| 40/40 [00:07<00:00,  5.02it/s]\n"
     ]
    },
    {
     "name": "stdout",
     "output_type": "stream",
     "text": [
      "[[1.         1.30089942]\n",
      " [1.         0.04841483]]\n",
      "[[ 1.          0.5409084 ]\n",
      " [ 1.         -1.29919401]]\n",
      "[[ 1.         -0.44021719]\n",
      " [ 1.         -0.23254239]]\n",
      "[[ 1.          0.38108288]\n",
      " [ 1.         -0.70830989]]\n",
      "[[1.         0.6744786 ]\n",
      " [1.         1.24544592]]\n",
      "[[ 1.         -0.25474387]\n",
      " [ 1.          0.10561622]]\n",
      "[[1.        0.8779223]\n",
      " [1.        0.2064977]]\n",
      "[[ 1.          0.60656461]\n",
      " [ 1.         -0.18957105]]\n",
      "[[ 1.         -1.52484695]\n",
      " [ 1.          0.17898421]]\n",
      "[[ 1.          1.4167542 ]\n",
      " [ 1.         -1.96485762]]\n",
      "[[ 1.          1.25520748]\n",
      " [ 1.         -1.89042666]]\n",
      "[[ 1.          0.09496786]\n",
      " [ 1.         -0.14323892]]\n",
      "[[ 1.          2.27695388]\n",
      " [ 1.         -0.22136766]]\n",
      "[[ 1.         -0.46764357]\n",
      " [ 1.          1.88151122]]\n",
      "[[ 1.          0.20967482]\n",
      " [ 1.         -1.32159776]]\n",
      "[[1.         1.53504684]\n",
      " [1.         0.28374443]]\n",
      "[[1.         0.56922416]\n",
      " [1.         0.46703957]]\n",
      "[[ 1.         -1.33032028]\n",
      " [ 1.         -1.03757938]]\n",
      "[[ 1.         -0.2775511 ]\n",
      " [ 1.         -0.00631167]]\n",
      "[[ 1.         -0.78190694]\n",
      " [ 1.         -0.55391751]]\n",
      "[[ 1.          0.67664108]\n",
      " [ 1.         -1.4535533 ]]\n",
      "[[ 1.          0.19806478]\n",
      " [ 1.         -0.94962953]]\n",
      "[[1.         0.4696781 ]\n",
      " [1.         0.55556558]]\n",
      "[[ 1.         -0.21399272]\n",
      " [ 1.         -0.03870532]]\n",
      "[[ 1.          0.84953886]\n",
      " [ 1.         -0.18050946]]\n",
      "[[ 1.         -0.941714  ]\n",
      " [ 1.          2.11597904]]\n",
      "[[1.         0.39172462]\n",
      " [1.         1.05058632]]\n",
      "[[ 1.         -2.29183805]\n",
      " [ 1.         -1.16301369]]\n",
      "[[1.         0.85558138]\n",
      " [1.         1.25166944]]\n",
      "[[1.         0.4967082 ]\n",
      " [1.         0.04653402]]\n",
      "[[ 1.         -1.3269458 ]\n",
      " [ 1.          0.28713735]]\n",
      "[[ 1.         -1.37172443]\n",
      " [ 1.          1.09517091]]\n",
      "[[ 1.         -1.01107179]\n",
      " [ 1.         -1.87709069]]\n",
      "[[ 1.         -1.07955487]\n",
      " [ 1.         -0.09111236]]\n",
      "[[ 1.          0.36953226]\n",
      " [ 1.         -0.00613556]]\n",
      "[[ 1.         -1.07155084]\n",
      " [ 1.         -2.30258023]]\n",
      "[[ 1.         -0.55927717]\n",
      " [ 1.         -0.19017192]]\n",
      "[[ 1.          0.49669242]\n",
      " [ 1.         -0.59120966]]\n",
      "[[ 1.         -0.04763218]\n",
      " [ 1.          0.41985154]]\n",
      "[[1.         1.64502828]\n",
      " [1.         1.50627507]]\n",
      "[[ 1.          0.45349328]\n",
      " [ 1.         -0.32934199]]\n",
      "[[ 1.          0.74626699]\n",
      " [ 1.         -0.06904928]]\n",
      "[[1.         1.18023634]\n",
      " [1.         1.46844977]]\n",
      "[[ 1.         -0.19654584]\n",
      " [ 1.          0.32650844]]\n",
      "[[ 1.         -0.08611409]\n",
      " [ 1.         -2.47370718]]\n",
      "[[ 1.          0.58168095]\n",
      " [ 1.         -0.27260197]]\n",
      "[[ 1.          0.25446766]\n",
      " [ 1.         -1.24473274]]\n",
      "[[ 1.         -0.95563448]\n",
      " [ 1.         -0.24712712]]\n",
      "[[ 1.          0.99937834]\n",
      " [ 1.         -0.30812795]]\n",
      "[[ 1.          0.69916432]\n",
      " [ 1.         -1.06625676]]\n"
     ]
    }
   ],
   "source": [
    " train(160, 200)"
   ]
  },
  {
   "cell_type": "code",
   "execution_count": 10,
   "metadata": {},
   "outputs": [
    {
     "data": {
      "image/png": "[encoded data removed]",
      "text/plain": [
       "<Figure size 720x576 with 1 Axes>"
      ]
     },
     "metadata": {
      "needs_background": "light"
     },
     "output_type": "display_data"
    }
   ],
   "source": [
    "def plotLoss():\n",
    "    plt.figure(figsize=(10, 8))\n",
    "    plt.plot(dLosses, label='Discriminitive loss')\n",
    "    plt.plot(gLosses, label='Generative loss')\n",
    "    plt.xlabel('Epoch')\n",
    "    plt.ylabel('Loss')\n",
    "    plt.legend()\n",
    "    \n",
    "plotLoss()"
   ]
  },
  {
   "cell_type": "code",
   "execution_count": 12,
   "metadata": {},
   "outputs": [
    {
     "name": "stdout",
     "output_type": "stream",
     "text": [
      "WARNING:tensorflow:Error in loading the saved optimizer state. As a result, your model is starting with a freshly initialized optimizer.\n",
      "Model: \"sequential\"\n",
      "_________________________________________________________________\n",
      "Layer (type)                 Output Shape              Param #   \n",
      "=================================================================\n",
      "dense (Dense)                (None, 256)               768       \n",
      "_________________________________________________________________\n",
      "leaky_re_lu (LeakyReLU)      (None, 256)               0         \n",
      "_________________________________________________________________\n",
      "dense_1 (Dense)              (None, 512)               131584    \n",
      "_________________________________________________________________\n",
      "leaky_re_lu_1 (LeakyReLU)    (None, 512)               0         \n",
      "_________________________________________________________________\n",
      "dense_2 (Dense)              (None, 1024)              525312    \n",
      "_________________________________________________________________\n",
      "leaky_re_lu_2 (LeakyReLU)    (None, 1024)              0         \n",
      "_________________________________________________________________\n",
      "dense_3 (Dense)              (None, 2)                 2050      \n",
      "=================================================================\n",
      "Total params: 659,714\n",
      "Trainable params: 659,714\n",
      "Non-trainable params: 0\n",
      "_________________________________________________________________\n",
      "None\n"
     ]
    }
   ],
   "source": [
    "from keras.models import load_model\n",
    "\n",
    "model = load_model(\"models/gan_generator_epoch_160.h5\")\n",
    "print(model.summary())"
   ]
  },
  {
   "cell_type": "code",
   "execution_count": 26,
   "metadata": {},
   "outputs": [
    {
     "name": "stdout",
     "output_type": "stream",
     "text": [
      "WARNING:tensorflow:Error in loading the saved optimizer state. As a result, your model is starting with a freshly initialized optimizer.\n",
      "[[0.8726711]]\n"
     ]
    }
   ],
   "source": [
    "model = load_model(\"models/gan_discriminator_epoch_160.h5\")\n",
    "\n",
    "arr = np.array([[65, 180]])\n",
    "\n",
    "print(model.predict(arr))"
   ]
  },
  {
   "cell_type": "code",
   "execution_count": null,
   "metadata": {},
   "outputs": [],
   "source": []
  }
 ],
 "metadata": {
  "kernelspec": {
   "display_name": "Python 3",
   "language": "python",
   "name": "python3"
  },
  "language_info": {
   "codemirror_mode": {
    "name": "ipython",
    "version": 3
   },
   "file_extension": ".py",
   "mimetype": "text/x-python",
   "name": "python",
   "nbconvert_exporter": "python",
   "pygments_lexer": "ipython3",
   "version": "3.7.7"
  }
 },
 "nbformat": 4,
 "nbformat_minor": 4
}
